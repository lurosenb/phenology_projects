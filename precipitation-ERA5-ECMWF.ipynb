{
 "cells": [
  {
   "cell_type": "code",
   "execution_count": 1,
   "id": "3dbbd6b5",
   "metadata": {},
   "outputs": [],
   "source": [
    "import ee\n",
    "import numpy as np\n",
    "import requests\n",
    "import shutil\n",
    "import pandas as pd\n",
    "from tqdm import tqdm\n",
    "from datetime import datetime, timedelta\n",
    "from IPython.display import Image\n",
    "from sklearn.metrics import confusion_matrix"
   ]
  },
  {
   "cell_type": "code",
   "execution_count": 2,
   "id": "b4ebef34",
   "metadata": {},
   "outputs": [],
   "source": [
    "ee.Initialize()"
   ]
  },
  {
   "cell_type": "markdown",
   "id": "cd416010",
   "metadata": {},
   "source": [
    "## Load Data"
   ]
  },
  {
   "cell_type": "code",
   "execution_count": 3,
   "id": "784e634d",
   "metadata": {},
   "outputs": [
    {
     "data": {
      "text/html": [
       "<div>\n",
       "<style scoped>\n",
       "    .dataframe tbody tr th:only-of-type {\n",
       "        vertical-align: middle;\n",
       "    }\n",
       "\n",
       "    .dataframe tbody tr th {\n",
       "        vertical-align: top;\n",
       "    }\n",
       "\n",
       "    .dataframe thead th {\n",
       "        text-align: right;\n",
       "    }\n",
       "</style>\n",
       "<table border=\"1\" class=\"dataframe\">\n",
       "  <thead>\n",
       "    <tr style=\"text-align: right;\">\n",
       "      <th></th>\n",
       "      <th>Observation_ID</th>\n",
       "      <th>Latitude</th>\n",
       "      <th>Longitude</th>\n",
       "      <th>Phenophase_ID</th>\n",
       "      <th>Observation_Date</th>\n",
       "      <th>Abundance_Binary</th>\n",
       "    </tr>\n",
       "  </thead>\n",
       "  <tbody>\n",
       "    <tr>\n",
       "      <th>1754</th>\n",
       "      <td>1795824</td>\n",
       "      <td>32.250660</td>\n",
       "      <td>-110.946358</td>\n",
       "      <td>489</td>\n",
       "      <td>2013-01-28</td>\n",
       "      <td>1</td>\n",
       "    </tr>\n",
       "    <tr>\n",
       "      <th>1756</th>\n",
       "      <td>6838318</td>\n",
       "      <td>32.250660</td>\n",
       "      <td>-110.946358</td>\n",
       "      <td>489</td>\n",
       "      <td>2015-12-08</td>\n",
       "      <td>1</td>\n",
       "    </tr>\n",
       "    <tr>\n",
       "      <th>8332</th>\n",
       "      <td>2588139</td>\n",
       "      <td>32.212666</td>\n",
       "      <td>-111.001831</td>\n",
       "      <td>489</td>\n",
       "      <td>2013-07-23</td>\n",
       "      <td>1</td>\n",
       "    </tr>\n",
       "    <tr>\n",
       "      <th>8333</th>\n",
       "      <td>2588163</td>\n",
       "      <td>32.212666</td>\n",
       "      <td>-111.001831</td>\n",
       "      <td>489</td>\n",
       "      <td>2013-07-31</td>\n",
       "      <td>1</td>\n",
       "    </tr>\n",
       "    <tr>\n",
       "      <th>8334</th>\n",
       "      <td>2588187</td>\n",
       "      <td>32.212666</td>\n",
       "      <td>-111.001831</td>\n",
       "      <td>489</td>\n",
       "      <td>2013-08-06</td>\n",
       "      <td>1</td>\n",
       "    </tr>\n",
       "  </tbody>\n",
       "</table>\n",
       "</div>"
      ],
      "text/plain": [
       "      Observation_ID   Latitude   Longitude  Phenophase_ID Observation_Date  \\\n",
       "1754         1795824  32.250660 -110.946358            489       2013-01-28   \n",
       "1756         6838318  32.250660 -110.946358            489       2015-12-08   \n",
       "8332         2588139  32.212666 -111.001831            489       2013-07-23   \n",
       "8333         2588163  32.212666 -111.001831            489       2013-07-31   \n",
       "8334         2588187  32.212666 -111.001831            489       2013-08-06   \n",
       "\n",
       "      Abundance_Binary  \n",
       "1754                 1  \n",
       "1756                 1  \n",
       "8332                 1  \n",
       "8333                 1  \n",
       "8334                 1  "
      ]
     },
     "execution_count": 3,
     "metadata": {},
     "output_type": "execute_result"
    }
   ],
   "source": [
    "df = pd.read_csv('../pheno-data.csv')\n",
    "df = df[(df['Phenophase_Description'] == 'Leaves (grasses)') & (df['Intensity_Value'] != '-9999')]\n",
    "df['Abundance_Binary'] = df['Intensity_Value'].apply(lambda x: 1 if x == '75-94%' or x == '50-74%' or x == '95% or more' else 0)\n",
    "df_filtered = df[['Observation_ID','Latitude', 'Longitude', 'Phenophase_ID', 'Observation_Date', 'Abundance_Binary']]\n",
    "df_filtered.head()"
   ]
  },
  {
   "cell_type": "code",
   "execution_count": null,
   "id": "b30d8d1d",
   "metadata": {
    "scrolled": true
   },
   "outputs": [
    {
     "name": "stderr",
     "output_type": "stream",
     "text": [
      "100%|██████████████████████████████████████████████████████████████████████████████| 1698/1698 [11:06<00:00,  2.55it/s]\n"
     ]
    },
    {
     "name": "stdout",
     "output_type": "stream",
     "text": [
      "Accumulative Days 1.\n",
      "Accuracy: 64.25206124852768%\n",
      "FP: 35.74793875147232%\n",
      "FN: 0.0%\n"
     ]
    },
    {
     "name": "stderr",
     "output_type": "stream",
     "text": [
      "100%|██████████████████████████████████████████████████████████████████████████████| 1698/1698 [10:53<00:00,  2.60it/s]\n"
     ]
    },
    {
     "name": "stdout",
     "output_type": "stream",
     "text": [
      "Accumulative Days 2.\n",
      "Accuracy: 64.31095406360424%\n",
      "FP: 35.68904593639576%\n",
      "FN: 0.0%\n"
     ]
    },
    {
     "name": "stderr",
     "output_type": "stream",
     "text": [
      "100%|██████████████████████████████████████████████████████████████████████████████| 1698/1698 [10:54<00:00,  2.59it/s]\n"
     ]
    },
    {
     "name": "stdout",
     "output_type": "stream",
     "text": [
      "Accumulative Days 3.\n",
      "Accuracy: 64.19316843345112%\n",
      "FP: 35.39458186101296%\n",
      "FN: 0.4122497055359246%\n"
     ]
    },
    {
     "name": "stderr",
     "output_type": "stream",
     "text": [
      "100%|██████████████████████████████████████████████████████████████████████████████| 1698/1698 [11:07<00:00,  2.54it/s]\n"
     ]
    },
    {
     "name": "stdout",
     "output_type": "stream",
     "text": [
      "Accumulative Days 4.\n",
      "Accuracy: 64.31095406360424%\n",
      "FP: 35.217903415783276%\n",
      "FN: 0.4711425206124853%\n"
     ]
    },
    {
     "name": "stderr",
     "output_type": "stream",
     "text": [
      "100%|██████████████████████████████████████████████████████████████████████████████| 1698/1698 [11:08<00:00,  2.54it/s]\n"
     ]
    },
    {
     "name": "stdout",
     "output_type": "stream",
     "text": [
      "Accumulative Days 5.\n",
      "Accuracy: 64.01648998822144%\n",
      "FP: 34.80565371024735%\n",
      "FN: 1.1778563015312131%\n"
     ]
    },
    {
     "name": "stderr",
     "output_type": "stream",
     "text": [
      "100%|██████████████████████████████████████████████████████████████████████████████| 1698/1698 [10:32<00:00,  2.68it/s]\n"
     ]
    },
    {
     "name": "stdout",
     "output_type": "stream",
     "text": [
      "Accumulative Days 6.\n",
      "Accuracy: 64.31095406360424%\n",
      "FP: 34.51118963486454%\n",
      "FN: 1.1778563015312131%\n"
     ]
    },
    {
     "name": "stderr",
     "output_type": "stream",
     "text": [
      "100%|██████████████████████████████████████████████████████████████████████████████| 1698/1698 [10:05<00:00,  2.81it/s]\n"
     ]
    },
    {
     "name": "stdout",
     "output_type": "stream",
     "text": [
      "Accumulative Days 7.\n",
      "Accuracy: 64.01648998822144%\n",
      "FP: 34.33451118963487%\n",
      "FN: 1.6489988221436984%\n"
     ]
    },
    {
     "name": "stderr",
     "output_type": "stream",
     "text": [
      " 24%|██████████████████▉                                                            | 407/1698 [02:47<07:28,  2.88it/s]"
     ]
    }
   ],
   "source": [
    "scale = 4000 ## meters\n",
    "label = df_filtered.Abundance_Binary.values\n",
    "for days in range(1,25):\n",
    "    pred = []\n",
    "    for i in tqdm(range(len(df_filtered))):\n",
    "        \n",
    "        ## load precipitation data \n",
    "        prec = ee.ImageCollection('ECMWF/ERA5_LAND/DAILY_AGGR')\n",
    "        prec = prec.select('total_precipitation_sum')\n",
    "        \n",
    "        ## filter date\n",
    "        start_date = df_filtered.Observation_Date.values[i]\n",
    "        end_date = (datetime.strptime(start_date, \"%Y-%m-%d\") + timedelta(days=days)).strftime(\"%Y-%m-%d\")\n",
    "        prec = prec.filterDate(start_date, end_date)\n",
    "        \n",
    "        ## point location\n",
    "        lat = df_filtered.Latitude.values[i]\n",
    "        long = df_filtered.Longitude.values[i]\n",
    "        point = ee.Geometry.Point([long, lat])\n",
    "        \n",
    "        ## get precipitation time series data\n",
    "        try:\n",
    "            ts_prec = prec.getRegion(point, scale).getInfo()\n",
    "            ts_prec = [k[-1]*39.3701 for k in ts_prec[1:]] ## 1 meter = 39.3701 inches\n",
    "            pred.append(1*(sum(ts_prec)>1.7))\n",
    "        except:\n",
    "            pred.append(0)\n",
    "            \n",
    "    tn, fp, fn, tp = confusion_matrix(pred, label).ravel()            \n",
    "    acc = 100*(tn+tp)/len(label)\n",
    "    fp_rate = 100*(fp)/len(label)\n",
    "    fn_rate = 100*(fn)/len(label)\n",
    "    \n",
    "    print(f'Accumulative Days {days}.')\n",
    "    print(f'Accuracy: {acc}%')\n",
    "    print(f'FP: {fp_rate}%')\n",
    "    print(f'FN: {fn_rate}%')"
   ]
  },
  {
   "cell_type": "code",
   "execution_count": 4,
   "id": "fd2357fe",
   "metadata": {},
   "outputs": [
    {
     "name": "stderr",
     "output_type": "stream",
     "text": [
      "100%|██████████████████████████████████████████████████████████████████████████████| 1698/1698 [11:45<00:00,  2.41it/s]\n"
     ]
    },
    {
     "name": "stdout",
     "output_type": "stream",
     "text": [
      "Accumulative Days 8.\n",
      "Accuracy: 63.486454652532395%\n",
      "FP: 34.275618374558306%\n",
      "FN: 2.237926972909305%\n"
     ]
    },
    {
     "name": "stderr",
     "output_type": "stream",
     "text": [
      "100%|██████████████████████████████████████████████████████████████████████████████| 1698/1698 [11:24<00:00,  2.48it/s]\n"
     ]
    },
    {
     "name": "stdout",
     "output_type": "stream",
     "text": [
      "Accumulative Days 9.\n",
      "Accuracy: 63.957597173144876%\n",
      "FP: 33.51001177856301%\n",
      "FN: 2.532391048292108%\n"
     ]
    },
    {
     "name": "stderr",
     "output_type": "stream",
     "text": [
      "100%|██████████████████████████████████████████████████████████████████████████████| 1698/1698 [11:27<00:00,  2.47it/s]\n"
     ]
    },
    {
     "name": "stdout",
     "output_type": "stream",
     "text": [
      "Accumulative Days 10.\n",
      "Accuracy: 63.898704358068315%\n",
      "FP: 33.333333333333336%\n",
      "FN: 2.767962308598351%\n"
     ]
    },
    {
     "name": "stderr",
     "output_type": "stream",
     "text": [
      "100%|██████████████████████████████████████████████████████████████████████████████| 1698/1698 [11:04<00:00,  2.56it/s]\n"
     ]
    },
    {
     "name": "stdout",
     "output_type": "stream",
     "text": [
      "Accumulative Days 11.\n",
      "Accuracy: 64.19316843345112%\n",
      "FP: 32.6266195524146%\n",
      "FN: 3.1802120141342756%\n"
     ]
    },
    {
     "name": "stderr",
     "output_type": "stream",
     "text": [
      "100%|██████████████████████████████████████████████████████████████████████████████| 1698/1698 [11:12<00:00,  2.52it/s]\n"
     ]
    },
    {
     "name": "stdout",
     "output_type": "stream",
     "text": [
      "Accumulative Days 12.\n",
      "Accuracy: 63.898704358068315%\n",
      "FP: 32.391048292108366%\n",
      "FN: 3.7102473498233217%\n"
     ]
    },
    {
     "name": "stderr",
     "output_type": "stream",
     "text": [
      "100%|██████████████████████████████████████████████████████████████████████████████| 1698/1698 [11:29<00:00,  2.46it/s]\n"
     ]
    },
    {
     "name": "stdout",
     "output_type": "stream",
     "text": [
      "Accumulative Days 13.\n",
      "Accuracy: 63.13309776207303%\n",
      "FP: 32.09658421672556%\n",
      "FN: 4.770318021201414%\n"
     ]
    },
    {
     "name": "stderr",
     "output_type": "stream",
     "text": [
      "100%|██████████████████████████████████████████████████████████████████████████████| 1698/1698 [11:32<00:00,  2.45it/s]\n"
     ]
    },
    {
     "name": "stdout",
     "output_type": "stream",
     "text": [
      "Accumulative Days 14.\n",
      "Accuracy: 62.66195524146054%\n",
      "FP: 31.684334511189636%\n",
      "FN: 5.6537102473498235%\n"
     ]
    },
    {
     "name": "stderr",
     "output_type": "stream",
     "text": [
      "100%|██████████████████████████████████████████████████████████████████████████████| 1698/1698 [11:06<00:00,  2.55it/s]\n"
     ]
    },
    {
     "name": "stdout",
     "output_type": "stream",
     "text": [
      "Accumulative Days 15.\n",
      "Accuracy: 61.60188457008245%\n",
      "FP: 31.625441696113075%\n",
      "FN: 6.772673733804476%\n"
     ]
    },
    {
     "name": "stderr",
     "output_type": "stream",
     "text": [
      "100%|██████████████████████████████████████████████████████████████████████████████| 1698/1698 [10:41<00:00,  2.65it/s]\n"
     ]
    },
    {
     "name": "stdout",
     "output_type": "stream",
     "text": [
      "Accumulative Days 16.\n",
      "Accuracy: 61.24852767962309%\n",
      "FP: 31.27208480565371%\n",
      "FN: 7.479387514723204%\n"
     ]
    },
    {
     "name": "stderr",
     "output_type": "stream",
     "text": [
      "100%|██████████████████████████████████████████████████████████████████████████████| 1698/1698 [11:52<00:00,  2.38it/s]\n"
     ]
    },
    {
     "name": "stdout",
     "output_type": "stream",
     "text": [
      "Accumulative Days 17.\n",
      "Accuracy: 61.83745583038869%\n",
      "FP: 30.624263839811544%\n",
      "FN: 7.538280329799765%\n"
     ]
    },
    {
     "name": "stderr",
     "output_type": "stream",
     "text": [
      "100%|██████████████████████████████████████████████████████████████████████████████| 1698/1698 [11:11<00:00,  2.53it/s]\n"
     ]
    },
    {
     "name": "stdout",
     "output_type": "stream",
     "text": [
      "Accumulative Days 18.\n",
      "Accuracy: 61.66077738515901%\n",
      "FP: 30.3886925795053%\n",
      "FN: 7.950530035335689%\n"
     ]
    },
    {
     "name": "stderr",
     "output_type": "stream",
     "text": [
      "100%|██████████████████████████████████████████████████████████████████████████████| 1698/1698 [11:37<00:00,  2.44it/s]\n"
     ]
    },
    {
     "name": "stdout",
     "output_type": "stream",
     "text": [
      "Accumulative Days 19.\n",
      "Accuracy: 61.01295641931684%\n",
      "FP: 30.32979976442874%\n",
      "FN: 8.657243816254416%\n"
     ]
    },
    {
     "name": "stderr",
     "output_type": "stream",
     "text": [
      "100%|██████████████████████████████████████████████████████████████████████████████| 1698/1698 [11:09<00:00,  2.54it/s]\n"
     ]
    },
    {
     "name": "stdout",
     "output_type": "stream",
     "text": [
      "Accumulative Days 20.\n",
      "Accuracy: 61.18963486454653%\n",
      "FP: 29.976442873969376%\n",
      "FN: 8.8339222614841%\n"
     ]
    },
    {
     "name": "stderr",
     "output_type": "stream",
     "text": [
      "100%|██████████████████████████████████████████████████████████████████████████████| 1698/1698 [11:22<00:00,  2.49it/s]\n"
     ]
    },
    {
     "name": "stdout",
     "output_type": "stream",
     "text": [
      "Accumulative Days 21.\n",
      "Accuracy: 60.7773851590106%\n",
      "FP: 29.799764428739692%\n",
      "FN: 9.422850412249705%\n"
     ]
    },
    {
     "name": "stderr",
     "output_type": "stream",
     "text": [
      "100%|██████████████████████████████████████████████████████████████████████████████| 1698/1698 [11:36<00:00,  2.44it/s]\n"
     ]
    },
    {
     "name": "stdout",
     "output_type": "stream",
     "text": [
      "Accumulative Days 22.\n",
      "Accuracy: 60.71849234393404%\n",
      "FP: 29.44640753828033%\n",
      "FN: 9.83510011778563%\n"
     ]
    },
    {
     "name": "stderr",
     "output_type": "stream",
     "text": [
      "100%|██████████████████████████████████████████████████████████████████████████████| 1698/1698 [11:35<00:00,  2.44it/s]\n"
     ]
    },
    {
     "name": "stdout",
     "output_type": "stream",
     "text": [
      "Accumulative Days 23.\n",
      "Accuracy: 60.83627797408716%\n",
      "FP: 28.50412249705536%\n",
      "FN: 10.659599528857479%\n"
     ]
    },
    {
     "name": "stderr",
     "output_type": "stream",
     "text": [
      "100%|██████████████████████████████████████████████████████████████████████████████| 1698/1698 [11:51<00:00,  2.39it/s]"
     ]
    },
    {
     "name": "stdout",
     "output_type": "stream",
     "text": [
      "Accumulative Days 24.\n",
      "Accuracy: 60.42402826855124%\n",
      "FP: 28.50412249705536%\n",
      "FN: 11.071849234393405%\n"
     ]
    },
    {
     "name": "stderr",
     "output_type": "stream",
     "text": [
      "\n"
     ]
    }
   ],
   "source": [
    "scale = 4000 ## meters\n",
    "label = df_filtered.Abundance_Binary.values\n",
    "for days in range(8,25):\n",
    "    pred = []\n",
    "    for i in tqdm(range(len(df_filtered))):\n",
    "        \n",
    "        ## load precipitation data \n",
    "        prec = ee.ImageCollection('ECMWF/ERA5_LAND/DAILY_AGGR')\n",
    "        prec = prec.select('total_precipitation_sum')\n",
    "        \n",
    "        ## filter date\n",
    "        start_date = df_filtered.Observation_Date.values[i]\n",
    "        end_date = (datetime.strptime(start_date, \"%Y-%m-%d\") + timedelta(days=days)).strftime(\"%Y-%m-%d\")\n",
    "        prec = prec.filterDate(start_date, end_date)\n",
    "        \n",
    "        ## point location\n",
    "        lat = df_filtered.Latitude.values[i]\n",
    "        long = df_filtered.Longitude.values[i]\n",
    "        point = ee.Geometry.Point([long, lat])\n",
    "        \n",
    "        ## get precipitation time series data\n",
    "        try:\n",
    "            ts_prec = prec.getRegion(point, scale).getInfo()\n",
    "            ts_prec = [k[-1]*39.3701 for k in ts_prec[1:]] ## 1 meter = 39.3701 inches\n",
    "            pred.append(1*(sum(ts_prec)>1.7))\n",
    "        except:\n",
    "            pred.append(0)\n",
    "            \n",
    "    tn, fp, fn, tp = confusion_matrix(pred, label).ravel()            \n",
    "    acc = 100*(tn+tp)/len(label)\n",
    "    fp_rate = 100*(fp)/len(label)\n",
    "    fn_rate = 100*(fn)/len(label)\n",
    "    \n",
    "    print(f'Accumulative Days {days}.')\n",
    "    print(f'Accuracy: {acc}%')\n",
    "    print(f'FP: {fp_rate}%')\n",
    "    print(f'FN: {fn_rate}%')"
   ]
  }
 ],
 "metadata": {
  "kernelspec": {
   "display_name": "Python 3 (ipykernel)",
   "language": "python",
   "name": "python3"
  },
  "language_info": {
   "codemirror_mode": {
    "name": "ipython",
    "version": 3
   },
   "file_extension": ".py",
   "mimetype": "text/x-python",
   "name": "python",
   "nbconvert_exporter": "python",
   "pygments_lexer": "ipython3",
   "version": "3.9.13"
  }
 },
 "nbformat": 4,
 "nbformat_minor": 5
}
