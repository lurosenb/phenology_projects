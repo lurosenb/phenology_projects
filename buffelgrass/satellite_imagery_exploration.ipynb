{
 "cells": [
  {
   "attachments": {},
   "cell_type": "markdown",
   "metadata": {},
   "source": [
    "### Note: run following cell to install earth engine reqs."
   ]
  },
  {
   "cell_type": "code",
   "execution_count": null,
   "metadata": {},
   "outputs": [],
   "source": [
    "pip install earthengine-api --upgrade"
   ]
  },
  {
   "attachments": {},
   "cell_type": "markdown",
   "metadata": {},
   "source": [
    "#### Further note: need to create api key with google account and follow the authentication workflow"
   ]
  },
  {
   "cell_type": "code",
   "execution_count": null,
   "metadata": {},
   "outputs": [],
   "source": [
    "import ee\n",
    "ee.Authenticate()"
   ]
  },
  {
   "attachments": {},
   "cell_type": "markdown",
   "metadata": {},
   "source": [
    "#### Experimental code\n",
    "For comparing different publicly available satellite imagery sources."
   ]
  },
  {
   "cell_type": "code",
   "execution_count": null,
   "metadata": {},
   "outputs": [],
   "source": [
    "import ee\n",
    "\n",
    "ee.Initialize()\n",
    "\n",
    "def maskS2clouds(image):\n",
    "    qa = image.select('QA60')\n",
    "\n",
    "    # Bits 10 and 11 are clouds and cirrus, respectively.\n",
    "    cloudBitMask = 1 << 10\n",
    "    cirrusBitMask = 1 << 11\n",
    "\n",
    "    # Both flags should be set to zero, indicating clear conditions.\n",
    "    mask = qa.bitwiseAnd(cloudBitMask).eq(0) \\\n",
    "        .And(qa.bitwiseAnd(cirrusBitMask).eq(0))\n",
    "\n",
    "    return image.updateMask(mask).divide(10000)\n",
    "\n",
    "collection_type = 'COPERNICUS' # 'COPERNICUS' , 'NAIP'\n",
    "\n",
    "# Define the image collection\n",
    "if collection_type == 'LANDSAT':\n",
    "    collection = ee.ImageCollection('LANDSAT/LC08/C01/T1_TOA')\n",
    "elif collection_type == 'COPERNICUS':\n",
    "    collection = ee.ImageCollection('COPERNICUS/S2_SR_HARMONIZED')\n",
    "elif collection_type == 'NAIP':\n",
    "    collection = ee.ImageCollection('USDA/NAIP/DOQQ')\n",
    "\n",
    "# Define the region of interest\n",
    "point = ee.Geometry.Point([-122.262, 37.8719])\n",
    "\n",
    "# Buffer the point and create a square region around it (5000m x 5000m)\n",
    "region = point.buffer(1000).bounds()\n",
    "\n",
    "# Filter the collection for a specific date\n",
    "filtered = collection.filterDate('2019-01-01', '2022-01-31')\n",
    "\n",
    "# filtered = filtered.map(maskS2clouds)\n",
    "\n",
    "# Filter the collection by region\n",
    "filtered = filtered.filterBounds(region)\n",
    "\n",
    "# Check if the filtered collection is empty\n",
    "if filtered.size().getInfo() == 0:\n",
    "    raise ValueError(\"No images found in the specified date range.\")\n",
    "\n",
    "# Sort the collection by metadata\n",
    "if collection_type == 'LANDSAT':\n",
    "    sorted = filtered.sort('CLOUD_COVER')\n",
    "else:\n",
    "    sorted = filtered.sort('system:time_start', False) # Most recent images first\n",
    "\n",
    "# Get the first image in the sorted collection\n",
    "image = ee.Image(sorted.first())\n",
    "\n",
    "# Check if the image is None\n",
    "if image is None:\n",
    "    raise ValueError(\"No images found after sorting.\")\n",
    "\n",
    "\n",
    "# print the date of the image\n",
    "date = ee.Date(image.get('system:time_start')).format('YYYY-MM-dd')\n",
    "print('Date of the image:', date.getInfo())\n",
    "\n",
    "# print the cloud cover of the image\n",
    "if collection_type == 'LANDSAT':\n",
    "    print('Cloud cover (%):', image.get('CLOUD_COVER').getInfo())\n",
    "\n",
    "# Get a URL for the image (also specify region and scale if necessary)\n",
    "if collection_type == 'LANDSAT':\n",
    "    # Define the visualization parameters\n",
    "    visParams = {\n",
    "      'bands': ['B4', 'B3', 'B2'],\n",
    "      'min': 0,\n",
    "      'max': 0.3,\n",
    "      'gamma': [1.0, 1.0, 1.0]\n",
    "    }\n",
    "\n",
    "    url = image.getThumbUrl({\n",
    "        'region': region.getInfo(),\n",
    "        'scale': 30,  # Adjust the scale as needed. Landsat images have 30m resolution.\n",
    "        **visParams\n",
    "    })\n",
    "elif collection_type == 'COPERNICUS':\n",
    "    # Define the visualization parameters\n",
    "    visParams = {\n",
    "      'bands': ['B4', 'B3', 'B2'],\n",
    "      'min': 0.0,\n",
    "      'max': 0.3,\n",
    "    }\n",
    "    url = image.getThumbUrl({\n",
    "        'region': region.getInfo(),\n",
    "        'scale': 10,  # Adjust the scale as needed. Sentinel-2 images have 10m resolution.\n",
    "        **visParams\n",
    "    })\n",
    "elif collection_type == 'NAIP':\n",
    "    # Define the visualization parameters\n",
    "    visParams = {\n",
    "      'bands': ['R', 'G', 'B'],\n",
    "      'min': 0,\n",
    "      'max': 255,\n",
    "    }\n",
    "    url = image.getThumbUrl({\n",
    "        'region': region.getInfo(),\n",
    "        'scale': 1,  # Adjust the scale as needed. NAIP images have 1m resolution.\n",
    "        **visParams\n",
    "    })\n",
    "\n",
    "print(url)"
   ]
  }
 ],
 "metadata": {
  "kernelspec": {
   "display_name": "Python 3",
   "language": "python",
   "name": "python3"
  },
  "language_info": {
   "codemirror_mode": {
    "name": "ipython",
    "version": 3
   },
   "file_extension": ".py",
   "mimetype": "text/x-python",
   "name": "python",
   "nbconvert_exporter": "python",
   "pygments_lexer": "ipython3",
   "version": "3.8.12"
  },
  "orig_nbformat": 4,
  "vscode": {
   "interpreter": {
    "hash": "6597d1ed23b894caf154b6750f098a8514a19e03807460ffd2d8425103778dc0"
   }
  }
 },
 "nbformat": 4,
 "nbformat_minor": 2
}
