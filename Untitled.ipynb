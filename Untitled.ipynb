{
 "cells": [
  {
   "cell_type": "code",
   "execution_count": 1,
   "id": "e56c04ef",
   "metadata": {},
   "outputs": [],
   "source": [
    "import ee\n",
    "import numpy as np\n",
    "import pandas as pd\n",
    "import matplotlib.pyplot as plt\n",
    "from datetime import datetime, timedelta\n",
    "from tqdm import tqdm"
   ]
  },
  {
   "cell_type": "code",
   "execution_count": 19,
   "id": "d1458a6a",
   "metadata": {},
   "outputs": [],
   "source": [
    "ee.Initialize()"
   ]
  },
  {
   "cell_type": "code",
   "execution_count": 28,
   "id": "1d0c33a6",
   "metadata": {},
   "outputs": [],
   "source": [
    "data_name = 'pheno'\n",
    "train_path = '../'+data_name+'-train.csv'\n",
    "test_path = '../'+data_name+'-test.csv'\n",
    "train_filtered = pd.read_csv(train_path)\n",
    "test_filtered = pd.read_csv(test_path)\n",
    "days = 24\n",
    "scale = 4000\n",
    "train_data = []\n",
    "test_data = []\n",
    "variables = ['total_precipitation_sum', \n",
    "              'temperature_2m', 'temperature_2m_min', 'temperature_2m_max',\n",
    "              'soil_temperature_level_1', 'soil_temperature_level_1_min', 'soil_temperature_level_1_max',\n",
    "              'volumetric_soil_water_layer_1', 'volumetric_soil_water_layer_1_min', 'volumetric_soil_water_layer_1_max',\n",
    "              'surface_solar_radiation_downwards_sum', 'surface_solar_radiation_downwards_min', 'surface_solar_radiation_downwards_max',\n",
    "              'surface_pressure', 'surface_pressure_min', 'surface_pressure_max'\n",
    "             ]"
   ]
  },
  {
   "cell_type": "code",
   "execution_count": 29,
   "id": "1eae3bc9",
   "metadata": {},
   "outputs": [
    {
     "name": "stderr",
     "output_type": "stream",
     "text": [
      "100%|██████████| 1358/1358 [09:59<00:00,  2.27it/s]\n"
     ]
    }
   ],
   "source": [
    "#-------------------------\n",
    "# train data iteration\n",
    "#-------------------------    \n",
    "for i in tqdm(range(len(train_filtered))):\n",
    "    \n",
    "    ## load precipitation data \n",
    "    prec = ee.ImageCollection('ECMWF/ERA5_LAND/DAILY_AGGR')\n",
    "    prec = prec.select(variables)\n",
    "    \n",
    "    ## end date\n",
    "    if data_name == 'onetime':\n",
    "        end_date = train_filtered.Observation_Date.values[i].split()[0]\n",
    "        end_month, end_day, end_year = end_date.split('/')\n",
    "        end_month = int(end_month)\n",
    "        end_day = int(end_day)\n",
    "        end_year = int(end_year)\n",
    "        end = datetime(end_year, end_month, end_day)\n",
    "        \n",
    "        ## start date\n",
    "        start_date = (datetime.strptime(end_date, \"%m/%d/%Y\") - timedelta(days=days)).strftime(\"%m/%d/%Y\")\n",
    "        start_month, start_day, start_year = start_date.split('/')\n",
    "        start_month = int(start_month)\n",
    "        start_day = int(start_day)\n",
    "        start_year = int(start_year)\n",
    "        start = datetime(start_year, start_month, start_day)\n",
    "    else:\n",
    "        end_date = train_filtered.Observation_Date.values[i]\n",
    "        end_year, end_month, end_day = end_date.split('-')\n",
    "        end_month = int(end_month)\n",
    "        end_day = int(end_day)\n",
    "        end_year = int(end_year)\n",
    "        end = datetime(end_year, end_month, end_day)\n",
    "        \n",
    "        ## start date\n",
    "        start_date = (datetime.strptime(end_date, \"%Y-%m-%d\") - timedelta(days=days)).strftime(\"%Y-%m-%d\")\n",
    "        start_year, start_month, start_day = start_date.split('-')\n",
    "        start_month = int(start_month)\n",
    "        start_day = int(start_day)\n",
    "        start_year = int(start_year)\n",
    "        start = datetime(start_year, start_month, start_day)        \n",
    "    \n",
    "    prec = prec.filterDate(start, end)\n",
    "    \n",
    "    ## point location\n",
    "    lat = train_filtered.Latitude.values[i]\n",
    "    long = train_filtered.Longitude.values[i]\n",
    "    point = ee.Geometry.Point([long, lat])\n",
    "    \n",
    "    ## get precipitation time series data\n",
    "    ts_prec = prec.getRegion(point, scale).getInfo()\n",
    "    ts_prec = pd.DataFrame(ts_prec)\n",
    "    ts_prec.columns = ts_prec.iloc[0]\n",
    "    ts_prec = ts_prec.iloc[1:,4:]\n",
    "    ts_prec[ts_prec.isna()] = 0\n",
    "    ts_prec[ts_prec.isnull()] = 0\n",
    "    train_data.append(ts_prec.values)"
   ]
  },
  {
   "cell_type": "code",
   "execution_count": 36,
   "id": "45617e4c",
   "metadata": {},
   "outputs": [
    {
     "name": "stderr",
     "output_type": "stream",
     "text": [
      "100%|██████████| 340/340 [02:17<00:00,  2.47it/s]\n"
     ]
    }
   ],
   "source": [
    "#-------------------------\n",
    "# test data iteration\n",
    "#-------------------------            \n",
    "for i in tqdm(range(len(test_filtered))):\n",
    "    \n",
    "    ## load precipitation data \n",
    "    prec = ee.ImageCollection('ECMWF/ERA5_LAND/DAILY_AGGR')\n",
    "    prec = prec.select(variables)\n",
    "    \n",
    "    ## end date\n",
    "    if data_name == 'onetime':\n",
    "        end_date = test_filtered.Observation_Date.values[i].split()[0]\n",
    "        end_month, end_day, end_year = end_date.split('/')\n",
    "        end_month = int(end_month)\n",
    "        end_day = int(end_day)\n",
    "        end_year = int(end_year)\n",
    "        end = datetime(end_year, end_month, end_day)\n",
    "        \n",
    "        ## start date\n",
    "        start_date = (datetime.strptime(end_date, \"%m/%d/%Y\") - timedelta(days=days)).strftime(\"%m/%d/%Y\")\n",
    "        start_month, start_day, start_year = start_date.split('/')\n",
    "        start_month = int(start_month)\n",
    "        start_day = int(start_day)\n",
    "        start_year = int(start_year)\n",
    "        start = datetime(start_year, start_month, start_day)\n",
    "    else:\n",
    "        end_date = test_filtered.Observation_Date.values[i]\n",
    "        end_year, end_month, end_day = end_date.split('-')\n",
    "        end_month = int(end_month)\n",
    "        end_day = int(end_day)\n",
    "        end_year = int(end_year)\n",
    "        end = datetime(end_year, end_month, end_day)\n",
    "        \n",
    "        ## start date\n",
    "        start_date = (datetime.strptime(end_date, \"%Y-%m-%d\") - timedelta(days=days)).strftime(\"%Y-%m-%d\")\n",
    "        start_year, start_month, start_day = start_date.split('-')\n",
    "        start_month = int(start_month)\n",
    "        start_day = int(start_day)\n",
    "        start_year = int(start_year)\n",
    "        start = datetime(start_year, start_month, start_day) \n",
    "    \n",
    "    prec = prec.filterDate(start, end)\n",
    "    \n",
    "    ## point location\n",
    "    lat = test_filtered.Latitude.values[i]\n",
    "    long = test_filtered.Longitude.values[i]\n",
    "    point = ee.Geometry.Point([long, lat])\n",
    "    \n",
    "    ## get precipitation time series data\n",
    "    ts_prec = prec.getRegion(point, scale).getInfo()\n",
    "    ts_prec = pd.DataFrame(ts_prec)\n",
    "    ts_prec.columns = ts_prec.iloc[0]\n",
    "    ts_prec = ts_prec.iloc[1:,4:]\n",
    "    ts_prec[ts_prec.isna()] = 0\n",
    "    ts_prec[ts_prec.isnull()] = 0\n",
    "    test_data.append(ts_prec.values)"
   ]
  },
  {
   "cell_type": "code",
   "execution_count": 37,
   "id": "1c84b679",
   "metadata": {},
   "outputs": [],
   "source": [
    "    train_data = np.stack(train_data)\n",
    "    test_data = np.stack(test_data)\n",
    "    np.save('../'+data_name+'-train-features.npy', train_data)\n",
    "    np.save('../'+data_name+'-test-features.npy', test_data)\n",
    "    np.save('../variables.npy', variables)"
   ]
  }
 ],
 "metadata": {
  "kernelspec": {
   "display_name": "Python 3",
   "language": "python",
   "name": "python3"
  },
  "language_info": {
   "codemirror_mode": {
    "name": "ipython",
    "version": 3
   },
   "file_extension": ".py",
   "mimetype": "text/x-python",
   "name": "python",
   "nbconvert_exporter": "python",
   "pygments_lexer": "ipython3",
   "version": "3.8.8"
  }
 },
 "nbformat": 4,
 "nbformat_minor": 5
}
