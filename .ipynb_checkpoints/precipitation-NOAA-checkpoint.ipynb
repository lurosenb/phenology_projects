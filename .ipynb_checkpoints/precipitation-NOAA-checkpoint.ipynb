{
 "cells": [
  {
   "cell_type": "code",
   "execution_count": 1,
   "id": "bb2d219b",
   "metadata": {},
   "outputs": [],
   "source": [
    "import numpy as np\n",
    "import pandas as pd\n",
    "import os\n",
    "import matplotlib.pyplot as plt\n",
    "from datetime import datetime, timedelta\n",
    "from meteostat import Point, Daily\n",
    "from tqdm import tqdm\n",
    "from sklearn.metrics import confusion_matrix\n",
    "from sklearn.model_selection import train_test_split"
   ]
  },
  {
   "cell_type": "code",
   "execution_count": 2,
   "id": "29c571a1",
   "metadata": {},
   "outputs": [
    {
     "name": "stdout",
     "output_type": "stream",
     "text": [
      "-- Load Data...\n"
     ]
    }
   ],
   "source": [
    "print('-- Load Data...')\n",
    "data_path = '../buffelgrass-onetime-test.csv'\n",
    "df_filtered = pd.read_csv(data_path)\n",
    "label = df_filtered.Abundance_Binary.values ## labels\n",
    "days = 23\n",
    "pred = []"
   ]
  },
  {
   "cell_type": "markdown",
   "id": "f7b245d3",
   "metadata": {},
   "source": [
    "- temperature (avg, min, max)\n",
    "- precipitation\n",
    "- snow\n",
    "- wind direction in degrees\n",
    "- wind speed\n",
    "- sea-level air pressure"
   ]
  },
  {
   "cell_type": "code",
   "execution_count": 3,
   "id": "6b240bda",
   "metadata": {},
   "outputs": [],
   "source": [
    "i = 0 \n",
    "\n",
    "## filter date\n",
    "end_date = df_filtered.Observation_Date.values[i].split()[0]\n",
    "end_month, end_day, end_year = end_date.split('/')\n",
    "end_month = int(end_month)\n",
    "end_day = int(end_day)\n",
    "end_year = int(end_year)\n",
    "end = datetime(end_year, end_month, end_day)\n",
    "\n",
    "start_date = (datetime.strptime(end_date, \"%m/%d/%Y\") - timedelta(days=days)).strftime(\"%m/%d/%Y\")\n",
    "start_month, start_day, start_year = start_date.split('/')\n",
    "start_month = int(start_month)\n",
    "start_day = int(start_day)\n",
    "start_year = int(start_year)\n",
    "start = datetime(start_year, start_month, start_day)\n",
    "\n",
    "## point location\n",
    "lat = df_filtered.Latitude.values[i]\n",
    "long = df_filtered.Longitude.values[i]\n",
    "elevation = df_filtered.Elevation.values[i]\n",
    "point = Point(lat, long, elevation)\n",
    "point = Point(lat, long)\n",
    "data = Daily(point, start, end)\n",
    "data = data.fetch()"
   ]
  },
  {
   "cell_type": "code",
   "execution_count": 3,
   "id": "177f6465",
   "metadata": {},
   "outputs": [
    {
     "name": "stderr",
     "output_type": "stream",
     "text": [
      "100%|██████████| 39/39 [00:01<00:00, 29.67it/s]"
     ]
    },
    {
     "name": "stdout",
     "output_type": "stream",
     "text": [
      "Accumulative Days 23.\n",
      "Accuracy: 61.53846153846154%\n",
      "FP: 35.8974358974359%\n",
      "FN: 2.5641025641025643%\n"
     ]
    },
    {
     "name": "stderr",
     "output_type": "stream",
     "text": [
      "\n"
     ]
    }
   ],
   "source": [
    "for i in tqdm(range(len(df_filtered))):\n",
    "        \n",
    "    ## filter date\n",
    "    end_date = df_filtered.Observation_Date.values[i].split()[0]\n",
    "    end_month, end_day, end_year = end_date.split('/')\n",
    "    end_month = int(end_month)\n",
    "    end_day = int(end_day)\n",
    "    end_year = int(end_year)\n",
    "    end = datetime(end_year, end_month, end_day)\n",
    "    \n",
    "    start_date = (datetime.strptime(end_date, \"%m/%d/%Y\") - timedelta(days=days)).strftime(\"%m/%d/%Y\")\n",
    "    start_month, start_day, start_year = start_date.split('/')\n",
    "    start_month = int(start_month)\n",
    "    start_day = int(start_day)\n",
    "    start_year = int(start_year)\n",
    "    start = datetime(start_year, start_month, start_day)\n",
    "    \n",
    "    ## point location\n",
    "    lat = df_filtered.Latitude.values[i]\n",
    "    long = df_filtered.Longitude.values[i]\n",
    "    elevation = df_filtered.Elevation.values[i]\n",
    "    point = Point(lat, long, elevation)\n",
    "    point = Point(lat, long)\n",
    "    data = Daily(point, start, end)\n",
    "    data = data.fetch()\n",
    "    \n",
    "    ## get precipitation time series data\n",
    "    try:\n",
    "        ts_prec = data['prcp'].values*0.0393701 ## 1mm = 0.0393701 inches        \n",
    "        pred.append(1*(sum(ts_prec)>1.7))\n",
    "    except:\n",
    "        pred.append(0)\n",
    "\n",
    "tn, fp, fn, tp = confusion_matrix(pred, label).ravel()            \n",
    "acc = 100*(tn+tp)/len(label)\n",
    "fp_rate = 100*(fp)/len(label)\n",
    "fn_rate = 100*(fn)/len(label)\n",
    "\n",
    "print(f'Accumulative Days {days}.')\n",
    "print(f'Accuracy: {acc}%')\n",
    "print(f'FP: {fp_rate}%')\n",
    "print(f'FN: {fn_rate}%')  "
   ]
  }
 ],
 "metadata": {
  "kernelspec": {
   "display_name": "Python 3",
   "language": "python",
   "name": "python3"
  },
  "language_info": {
   "codemirror_mode": {
    "name": "ipython",
    "version": 3
   },
   "file_extension": ".py",
   "mimetype": "text/x-python",
   "name": "python",
   "nbconvert_exporter": "python",
   "pygments_lexer": "ipython3",
   "version": "3.8.8"
  }
 },
 "nbformat": 4,
 "nbformat_minor": 5
}
