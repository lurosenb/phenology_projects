{
 "cells": [
  {
   "cell_type": "code",
   "execution_count": 4,
   "id": "b2e4fcc4",
   "metadata": {},
   "outputs": [],
   "source": [
    "import numpy as np\n",
    "import pandas as pd"
   ]
  },
  {
   "cell_type": "code",
   "execution_count": 5,
   "id": "6190a622",
   "metadata": {},
   "outputs": [
    {
     "data": {
      "text/html": [
       "<div>\n",
       "<style scoped>\n",
       "    .dataframe tbody tr th:only-of-type {\n",
       "        vertical-align: middle;\n",
       "    }\n",
       "\n",
       "    .dataframe tbody tr th {\n",
       "        vertical-align: top;\n",
       "    }\n",
       "\n",
       "    .dataframe thead th {\n",
       "        text-align: right;\n",
       "    }\n",
       "</style>\n",
       "<table border=\"1\" class=\"dataframe\">\n",
       "  <thead>\n",
       "    <tr style=\"text-align: right;\">\n",
       "      <th></th>\n",
       "      <th>Model</th>\n",
       "      <th>Acc</th>\n",
       "      <th>FP</th>\n",
       "      <th>FN</th>\n",
       "    </tr>\n",
       "  </thead>\n",
       "  <tbody>\n",
       "    <tr>\n",
       "      <th>0</th>\n",
       "      <td>Prcp</td>\n",
       "      <td>58.974359</td>\n",
       "      <td>41.025641</td>\n",
       "      <td>0.000000</td>\n",
       "    </tr>\n",
       "    <tr>\n",
       "      <th>1</th>\n",
       "      <td>Prcp+LSTM</td>\n",
       "      <td>61.538462</td>\n",
       "      <td>23.076923</td>\n",
       "      <td>15.384615</td>\n",
       "    </tr>\n",
       "    <tr>\n",
       "      <th>2</th>\n",
       "      <td>ViT</td>\n",
       "      <td>62.051282</td>\n",
       "      <td>15.384615</td>\n",
       "      <td>22.564103</td>\n",
       "    </tr>\n",
       "    <tr>\n",
       "      <th>3</th>\n",
       "      <td>Multi Varable+LSTM</td>\n",
       "      <td>66.153846</td>\n",
       "      <td>23.076923</td>\n",
       "      <td>10.769231</td>\n",
       "    </tr>\n",
       "    <tr>\n",
       "      <th>4</th>\n",
       "      <td>Multi Modal</td>\n",
       "      <td>65.641026</td>\n",
       "      <td>22.051282</td>\n",
       "      <td>12.307692</td>\n",
       "    </tr>\n",
       "  </tbody>\n",
       "</table>\n",
       "</div>"
      ],
      "text/plain": [
       "                Model        Acc         FP         FN\n",
       "0                Prcp  58.974359  41.025641   0.000000\n",
       "1           Prcp+LSTM  61.538462  23.076923  15.384615\n",
       "2                 ViT  62.051282  15.384615  22.564103\n",
       "3  Multi Varable+LSTM  66.153846  23.076923  10.769231\n",
       "4         Multi Modal  65.641026  22.051282  12.307692"
      ]
     },
     "execution_count": 5,
     "metadata": {},
     "output_type": "execute_result"
    }
   ],
   "source": [
    "prcp=np.load('results/prcp-single.npy')\n",
    "lstm_prcp=np.mean(np.load('results/LSTM-prcp-single.npy'),axis=1)\n",
    "lstm_multi=np.mean(np.load('results/LSTM-multiple-variables.npy'),axis=1)\n",
    "vit=np.mean(np.load('results/VIT.npy'),axis=1)\n",
    "multi=np.mean(np.load('results/multi-modal.npy'),axis=1)\n",
    "\n",
    "results = pd.DataFrame(\n",
    "    np.stack([\n",
    "        prcp,     \n",
    "        lstm_prcp,\n",
    "        vit,        \n",
    "        lstm_multi,\n",
    "        multi\n",
    "    ], axis=0),\n",
    "    columns=['Acc', 'FP', 'FN'],\n",
    ")\n",
    "results.insert(0, 'Model', np.array(['Prcp', 'Prcp+LSTM', 'ViT', 'Multi Varable+LSTM', 'Multi Modal']))\n",
    "results"
   ]
  }
 ],
 "metadata": {
  "kernelspec": {
   "display_name": "Python 3 (ipykernel)",
   "language": "python",
   "name": "python3"
  },
  "language_info": {
   "codemirror_mode": {
    "name": "ipython",
    "version": 3
   },
   "file_extension": ".py",
   "mimetype": "text/x-python",
   "name": "python",
   "nbconvert_exporter": "python",
   "pygments_lexer": "ipython3",
   "version": "3.9.13"
  }
 },
 "nbformat": 4,
 "nbformat_minor": 5
}
