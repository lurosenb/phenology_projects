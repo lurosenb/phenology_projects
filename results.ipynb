{
 "cells": [
  {
   "cell_type": "code",
   "execution_count": 8,
   "id": "b2e4fcc4",
   "metadata": {},
   "outputs": [],
   "source": [
    "import numpy as np\n",
    "import pandas as pd"
   ]
  },
  {
   "cell_type": "markdown",
   "id": "dc2fa77d",
   "metadata": {},
   "source": [
    "### Onetime"
   ]
  },
  {
   "cell_type": "code",
   "execution_count": 13,
   "id": "6190a622",
   "metadata": {},
   "outputs": [
    {
     "name": "stdout",
     "output_type": "stream",
     "text": [
      "                Model        Acc         FP         FN\n",
      "0                Prcp  58.974359  41.025641   0.000000\n",
      "1           Prcp+LSTM  61.538462  25.641026  12.820513\n",
      "2                 ViT  62.051282  15.384615  22.564103\n",
      "3  Multi Varable+LSTM  66.666667  21.025641  12.307692\n",
      "4         Multi Modal  65.641026  22.051282  12.307692\n"
     ]
    }
   ],
   "source": [
    "data_name = 'onetime'\n",
    "prcp=np.load(f'results/{data_name}-prcp-single.npy')\n",
    "lstm_prcp=np.mean(np.load(f'results/{data_name}-lstm-prcp-single.npy'),axis=1)\n",
    "lstm_multi=np.mean(np.load(f'results/{data_name}-lstm-multiple-variables.npy'),axis=1)\n",
    "vit=np.mean(np.load(f'results/{data_name}-vit.npy'),axis=1)\n",
    "multi=np.mean(np.load(f'results/{data_name}-multi-modal.npy'),axis=1)\n",
    "acc = pd.DataFrame(np.stack([prcp,lstm_prcp,vit,lstm_multi,multi], axis=0),columns=['Acc', 'FP', 'FN'])\n",
    "acc.insert(0, 'Model', np.array(['Prcp', 'Prcp+LSTM', 'ViT', 'Multi Varable+LSTM', 'Multi Modal']))\n",
    "print(acc)"
   ]
  },
  {
   "cell_type": "code",
   "execution_count": 17,
   "id": "c99318d0",
   "metadata": {},
   "outputs": [
    {
     "name": "stdout",
     "output_type": "stream",
     "text": [
      "                Model       Acc        FP        FN\n",
      "0                Prcp  0.000000  0.000000  0.000000\n",
      "1           Prcp+LSTM  2.293403  2.808834  3.243362\n",
      "2                 ViT  6.153846  5.128205  8.488690\n",
      "3  Multi Varable+LSTM  2.808834  7.142763  5.229764\n",
      "4         Multi Modal  3.837597  6.607230  5.710528\n"
     ]
    }
   ],
   "source": [
    "data_name = 'onetime'\n",
    "prcp=np.zeros(3)\n",
    "lstm_prcp=np.std(np.load(f'results/{data_name}-lstm-prcp-single.npy'),axis=1)\n",
    "lstm_multi=np.std(np.load(f'results/{data_name}-lstm-multiple-variables.npy'),axis=1)\n",
    "vit=np.std(np.load(f'results/{data_name}-vit.npy'),axis=1)\n",
    "multi=np.std(np.load(f'results/{data_name}-multi-modal.npy'),axis=1)\n",
    "acc = pd.DataFrame(np.stack([prcp,lstm_prcp,vit,lstm_multi,multi], axis=0),columns=['Acc', 'FP', 'FN'])\n",
    "acc.insert(0, 'Model', np.array(['Prcp', 'Prcp+LSTM', 'ViT', 'Multi Varable+LSTM', 'Multi Modal']))\n",
    "print(acc)"
   ]
  },
  {
   "cell_type": "markdown",
   "id": "a14338a3",
   "metadata": {},
   "source": [
    "### Pheno"
   ]
  },
  {
   "cell_type": "code",
   "execution_count": 18,
   "id": "f71fd11a",
   "metadata": {},
   "outputs": [
    {
     "name": "stdout",
     "output_type": "stream",
     "text": [
      "                Model        Acc         FP         FN\n",
      "0                Prcp  65.588235  24.117647  10.294118\n",
      "1           Prcp+LSTM  79.411765  10.588235  10.000000\n",
      "2  Multi Varable+LSTM  80.058824   6.411765  13.529412\n"
     ]
    }
   ],
   "source": [
    "data_name = 'pheno'\n",
    "prcp=np.load(f'results/{data_name}-prcp-single.npy')\n",
    "lstm_prcp=np.mean(np.load(f'results/{data_name}-lstm-prcp-single.npy'),axis=1)\n",
    "lstm_multi=np.mean(np.load(f'results/{data_name}-lstm-multiple-variables.npy'),axis=1)\n",
    "acc = pd.DataFrame(np.stack([prcp,lstm_prcp,lstm_multi], axis=0),columns=['Acc', 'FP', 'FN'])\n",
    "acc.insert(0, 'Model', np.array(['Prcp', 'Prcp+LSTM','Multi Varable+LSTM']))\n",
    "print(acc)"
   ]
  }
 ],
 "metadata": {
  "kernelspec": {
   "display_name": "Python 3 (ipykernel)",
   "language": "python",
   "name": "python3"
  },
  "language_info": {
   "codemirror_mode": {
    "name": "ipython",
    "version": 3
   },
   "file_extension": ".py",
   "mimetype": "text/x-python",
   "name": "python",
   "nbconvert_exporter": "python",
   "pygments_lexer": "ipython3",
   "version": "3.9.13"
  }
 },
 "nbformat": 4,
 "nbformat_minor": 5
}
