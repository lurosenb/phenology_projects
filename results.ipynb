{
 "cells": [
  {
   "cell_type": "code",
   "execution_count": 1,
   "id": "b2e4fcc4",
   "metadata": {},
   "outputs": [],
   "source": [
    "import numpy as np\n",
    "import pandas as pd"
   ]
  },
  {
   "cell_type": "markdown",
   "id": "dc2fa77d",
   "metadata": {},
   "source": [
    "### Onetime"
   ]
  },
  {
   "cell_type": "code",
   "execution_count": 8,
   "id": "6190a622",
   "metadata": {},
   "outputs": [
    {
     "name": "stdout",
     "output_type": "stream",
     "text": [
      "                Model        Acc        F1         FP         FN\n",
      "0                Prcp  58.974359  0.272727  41.025641   0.000000\n",
      "1           Prcp+LSTM  61.538462  0.543730  25.641026  12.820513\n",
      "2  Multi Varable+LSTM  66.666667  0.615116  21.025641  12.307692\n",
      "3                 ViT  62.051282  0.635917  15.384615  22.564103\n",
      "4         Multi Modal  65.641026  0.600613  22.051282  12.307692\n"
     ]
    }
   ],
   "source": [
    "data_name = 'onetime'\n",
    "prcp=np.load(f'results/{data_name}-prcp-single.npy')\n",
    "lstm_prcp=np.mean(np.load(f'results/{data_name}-lstm-prcp-single.npy'),axis=1)\n",
    "lstm_multi=np.mean(np.load(f'results/{data_name}-lstm-multiple-variables.npy'),axis=1)\n",
    "vit=np.mean(np.load(f'results/{data_name}-vit.npy'),axis=1)\n",
    "multi=np.mean(np.load(f'results/{data_name}-multi-modal.npy'),axis=1)\n",
    "acc = pd.DataFrame(np.stack([prcp,lstm_prcp,lstm_multi,vit,multi], axis=0),columns=['Acc', 'F1', 'FP', 'FN'])\n",
    "acc.insert(0, 'Model', np.array(['Prcp', 'Prcp+LSTM', 'Multi Varable+LSTM', 'ViT', 'Multi Modal']))\n",
    "print(acc)"
   ]
  },
  {
   "cell_type": "code",
   "execution_count": 7,
   "id": "c99318d0",
   "metadata": {},
   "outputs": [
    {
     "name": "stdout",
     "output_type": "stream",
     "text": [
      "                Model       Acc        F1        FP        FN\n",
      "0                Prcp  0.000000  0.000000  0.000000  0.000000\n",
      "1           Prcp+LSTM  2.293403  0.038860  2.808834  3.243362\n",
      "2  Multi Varable+LSTM  2.808834  0.068621  7.142763  5.229764\n",
      "3                 ViT  6.153846  0.045596  5.128205  8.488690\n",
      "4         Multi Modal  3.837597  0.073243  6.607230  5.710528\n"
     ]
    }
   ],
   "source": [
    "data_name = 'onetime'\n",
    "prcp=np.zeros(4)\n",
    "lstm_prcp=np.std(np.load(f'results/{data_name}-lstm-prcp-single.npy'),axis=1)\n",
    "lstm_multi=np.std(np.load(f'results/{data_name}-lstm-multiple-variables.npy'),axis=1)\n",
    "vit=np.std(np.load(f'results/{data_name}-vit.npy'),axis=1)\n",
    "multi=np.std(np.load(f'results/{data_name}-multi-modal.npy'),axis=1)\n",
    "acc = pd.DataFrame(np.stack([prcp,lstm_prcp,lstm_multi,vit,multi], axis=0),columns=['Acc', 'F1', 'FP', 'FN'])\n",
    "acc.insert(0, 'Model', np.array(['Prcp', 'Prcp+LSTM', 'Multi Varable+LSTM','ViT', 'Multi Modal']))\n",
    "print(acc)"
   ]
  },
  {
   "cell_type": "markdown",
   "id": "a14338a3",
   "metadata": {},
   "source": [
    "### Pheno"
   ]
  },
  {
   "cell_type": "code",
   "execution_count": 9,
   "id": "f71fd11a",
   "metadata": {},
   "outputs": [
    {
     "name": "stdout",
     "output_type": "stream",
     "text": [
      "                Model        Acc        F1         FP         FN\n",
      "0                Prcp  65.588235  0.406091  24.117647  10.294118\n",
      "1           Prcp+LSTM  79.411765  0.710534  10.588235  10.000000\n",
      "2  Multi Varable+LSTM  80.058824  0.747089   6.411765  13.529412\n"
     ]
    }
   ],
   "source": [
    "data_name = 'pheno'\n",
    "prcp=np.load(f'results/{data_name}-prcp-single.npy')\n",
    "lstm_prcp=np.mean(np.load(f'results/{data_name}-lstm-prcp-single.npy'),axis=1)\n",
    "lstm_multi=np.mean(np.load(f'results/{data_name}-lstm-multiple-variables.npy'),axis=1)\n",
    "acc = pd.DataFrame(np.stack([prcp,lstm_prcp,lstm_multi], axis=0),columns=['Acc', 'F1', 'FP', 'FN'])\n",
    "acc.insert(0, 'Model', np.array(['Prcp', 'Prcp+LSTM','Multi Varable+LSTM']))\n",
    "print(acc)"
   ]
  },
  {
   "cell_type": "code",
   "execution_count": 8,
   "id": "db174301",
   "metadata": {},
   "outputs": [
    {
     "name": "stdout",
     "output_type": "stream",
     "text": [
      "                Model       Acc        F1        FP        FN\n",
      "0                Prcp  0.000000  0.000000  0.000000  0.000000\n",
      "1           Prcp+LSTM  1.994803  0.028270  1.511204  1.832048\n",
      "2  Multi Varable+LSTM  1.075039  0.014351  1.091014  1.233893\n"
     ]
    }
   ],
   "source": [
    "data_name = 'pheno'\n",
    "prcp=np.zeros(4)\n",
    "lstm_prcp=np.std(np.load(f'results/{data_name}-lstm-prcp-single.npy'),axis=1)\n",
    "lstm_multi=np.std(np.load(f'results/{data_name}-lstm-multiple-variables.npy'),axis=1)\n",
    "acc = pd.DataFrame(np.stack([prcp,lstm_prcp,lstm_multi,], axis=0),columns=['Acc', 'F1', 'FP', 'FN'])\n",
    "acc.insert(0, 'Model', np.array(['Prcp', 'Prcp+LSTM', 'Multi Varable+LSTM']))\n",
    "print(acc)"
   ]
  }
 ],
 "metadata": {
  "kernelspec": {
   "display_name": "Python 3 (ipykernel)",
   "language": "python",
   "name": "python3"
  },
  "language_info": {
   "codemirror_mode": {
    "name": "ipython",
    "version": 3
   },
   "file_extension": ".py",
   "mimetype": "text/x-python",
   "name": "python",
   "nbconvert_exporter": "python",
   "pygments_lexer": "ipython3",
   "version": "3.9.13"
  }
 },
 "nbformat": 4,
 "nbformat_minor": 5
}
