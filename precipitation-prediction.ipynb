{
 "cells": [
  {
   "cell_type": "code",
   "execution_count": 34,
   "id": "a41b252c",
   "metadata": {},
   "outputs": [],
   "source": [
    "import numpy as np\n",
    "import pandas as pd\n",
    "from sklearn.metrics import confusion_matrix"
   ]
  },
  {
   "cell_type": "code",
   "execution_count": 47,
   "id": "83d01518",
   "metadata": {},
   "outputs": [],
   "source": [
    "test_data_path = '../buffelgrass-onetime-test.csv'\n",
    "test_feature_path = '../buffelgrass-onetime-test.npy'\n",
    "variable_path = '../buffelgrass-onetime-variables.npy'\n",
    "test_data = pd.read_csv(test_data_path)\n",
    "test_features = np.load(test_feature_path, allow_pickle=True)\n",
    "variables = np.load(variable_path, allow_pickle=True)\n",
    "label = test_data.Abundance_Binary.values ## labels\n",
    "index = np.where(variables == 'total_precipitation_sum')[0][0]"
   ]
  },
  {
   "cell_type": "code",
   "execution_count": 48,
   "id": "d4c5f75c",
   "metadata": {},
   "outputs": [
    {
     "name": "stdout",
     "output_type": "stream",
     "text": [
      "-------------------\n",
      "Accuracy: 58.97435897435897%\n",
      "FP: 41.02564102564103%\n",
      "FN: 0.0%\n"
     ]
    }
   ],
   "source": [
    "pred = 1*(np.sum(test_features[:,:,index]*39.3701, axis=1)>1.7)\n",
    "tn, fp, fn, tp = confusion_matrix(pred, label).ravel()            \n",
    "acc = 100*(tn+tp)/len(label)\n",
    "fp_rate = 100*(fp)/len(label)\n",
    "fn_rate = 100*(fn)/len(label)\n",
    "\n",
    "print('-------------------')\n",
    "print(f'Accuracy: {acc}%')\n",
    "print(f'FP: {fp_rate}%')\n",
    "print(f'FN: {fn_rate}%')"
   ]
  }
 ],
 "metadata": {
  "kernelspec": {
   "display_name": "Python 3",
   "language": "python",
   "name": "python3"
  },
  "language_info": {
   "codemirror_mode": {
    "name": "ipython",
    "version": 3
   },
   "file_extension": ".py",
   "mimetype": "text/x-python",
   "name": "python",
   "nbconvert_exporter": "python",
   "pygments_lexer": "ipython3",
   "version": "3.8.8"
  }
 },
 "nbformat": 4,
 "nbformat_minor": 5
}
