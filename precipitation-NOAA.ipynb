{
 "cells": [
  {
   "cell_type": "code",
   "execution_count": 1,
   "id": "2ab01575",
   "metadata": {},
   "outputs": [],
   "source": [
    "import numpy as np\n",
    "import pandas as pd\n",
    "import matplotlib.pyplot as plt\n",
    "from datetime import datetime, timedelta\n",
    "from meteostat import Point, Daily\n",
    "from tqdm import tqdm\n",
    "from sklearn.metrics import confusion_matrix"
   ]
  },
  {
   "cell_type": "code",
   "execution_count": 2,
   "id": "4e6bd636",
   "metadata": {
    "scrolled": true
   },
   "outputs": [
    {
     "data": {
      "text/html": [
       "<div>\n",
       "<style scoped>\n",
       "    .dataframe tbody tr th:only-of-type {\n",
       "        vertical-align: middle;\n",
       "    }\n",
       "\n",
       "    .dataframe tbody tr th {\n",
       "        vertical-align: top;\n",
       "    }\n",
       "\n",
       "    .dataframe thead th {\n",
       "        text-align: right;\n",
       "    }\n",
       "</style>\n",
       "<table border=\"1\" class=\"dataframe\">\n",
       "  <thead>\n",
       "    <tr style=\"text-align: right;\">\n",
       "      <th></th>\n",
       "      <th>Observation_ID</th>\n",
       "      <th>Observation_Date</th>\n",
       "      <th>Create_Date</th>\n",
       "      <th>Latitude</th>\n",
       "      <th>Longitude</th>\n",
       "      <th>Abundance_Name</th>\n",
       "      <th>Abundance_Binary</th>\n",
       "    </tr>\n",
       "  </thead>\n",
       "  <tbody>\n",
       "    <tr>\n",
       "      <th>0</th>\n",
       "      <td>3152</td>\n",
       "      <td>7/5/2021 7:00</td>\n",
       "      <td>7/5/2021</td>\n",
       "      <td>32.367762</td>\n",
       "      <td>-111.113910</td>\n",
       "      <td>NaN</td>\n",
       "      <td>0</td>\n",
       "    </tr>\n",
       "    <tr>\n",
       "      <th>1</th>\n",
       "      <td>3074</td>\n",
       "      <td>9/15/2020 7:00</td>\n",
       "      <td>9/18/2020</td>\n",
       "      <td>32.270887</td>\n",
       "      <td>-111.244599</td>\n",
       "      <td>95% or more</td>\n",
       "      <td>1</td>\n",
       "    </tr>\n",
       "    <tr>\n",
       "      <th>2</th>\n",
       "      <td>2177</td>\n",
       "      <td>8/18/2019 7:00</td>\n",
       "      <td>8/18/2019</td>\n",
       "      <td>36.907189</td>\n",
       "      <td>-110.623412</td>\n",
       "      <td>95% or more</td>\n",
       "      <td>1</td>\n",
       "    </tr>\n",
       "    <tr>\n",
       "      <th>3</th>\n",
       "      <td>3064</td>\n",
       "      <td>9/9/2020 7:00</td>\n",
       "      <td>9/9/2020</td>\n",
       "      <td>32.209717</td>\n",
       "      <td>-110.791179</td>\n",
       "      <td>50-74%</td>\n",
       "      <td>1</td>\n",
       "    </tr>\n",
       "    <tr>\n",
       "      <th>4</th>\n",
       "      <td>2150</td>\n",
       "      <td>7/9/2019 7:00</td>\n",
       "      <td>7/9/2019</td>\n",
       "      <td>32.194713</td>\n",
       "      <td>-110.914275</td>\n",
       "      <td>NaN</td>\n",
       "      <td>0</td>\n",
       "    </tr>\n",
       "  </tbody>\n",
       "</table>\n",
       "</div>"
      ],
      "text/plain": [
       "   Observation_ID Observation_Date Create_Date   Latitude   Longitude  \\\n",
       "0            3152    7/5/2021 7:00    7/5/2021  32.367762 -111.113910   \n",
       "1            3074   9/15/2020 7:00   9/18/2020  32.270887 -111.244599   \n",
       "2            2177   8/18/2019 7:00   8/18/2019  36.907189 -110.623412   \n",
       "3            3064    9/9/2020 7:00    9/9/2020  32.209717 -110.791179   \n",
       "4            2150    7/9/2019 7:00    7/9/2019  32.194713 -110.914275   \n",
       "\n",
       "  Abundance_Name  Abundance_Binary  \n",
       "0            NaN                 0  \n",
       "1    95% or more                 1  \n",
       "2    95% or more                 1  \n",
       "3         50-74%                 1  \n",
       "4            NaN                 0  "
      ]
     },
     "execution_count": 2,
     "metadata": {},
     "output_type": "execute_result"
    }
   ],
   "source": [
    "df_filtered = pd.read_csv('../buffelgrass-onetime-test.csv')\n",
    "df_filtered.head()"
   ]
  },
  {
   "cell_type": "code",
   "execution_count": 3,
   "id": "02acb0a4",
   "metadata": {
    "scrolled": true
   },
   "outputs": [
    {
     "name": "stderr",
     "output_type": "stream",
     "text": [
      "100%|██████████████████████████████████████████████████████████████████████████████████| 39/39 [00:00<00:00, 50.18it/s]\n"
     ]
    },
    {
     "name": "stdout",
     "output_type": "stream",
     "text": [
      "Accumulative Days 0.\n",
      "Accuracy: 51.282051282051285%\n",
      "FP: 48.717948717948715%\n",
      "FN: 0.0%\n"
     ]
    },
    {
     "name": "stderr",
     "output_type": "stream",
     "text": [
      "100%|██████████████████████████████████████████████████████████████████████████████████| 39/39 [00:00<00:00, 48.62it/s]\n"
     ]
    },
    {
     "name": "stdout",
     "output_type": "stream",
     "text": [
      "Accumulative Days 1.\n",
      "Accuracy: 51.282051282051285%\n",
      "FP: 48.717948717948715%\n",
      "FN: 0.0%\n"
     ]
    },
    {
     "name": "stderr",
     "output_type": "stream",
     "text": [
      "100%|██████████████████████████████████████████████████████████████████████████████████| 39/39 [00:00<00:00, 51.78it/s]\n"
     ]
    },
    {
     "name": "stdout",
     "output_type": "stream",
     "text": [
      "Accumulative Days 2.\n",
      "Accuracy: 53.84615384615385%\n",
      "FP: 46.15384615384615%\n",
      "FN: 0.0%\n"
     ]
    },
    {
     "name": "stderr",
     "output_type": "stream",
     "text": [
      "100%|██████████████████████████████████████████████████████████████████████████████████| 39/39 [00:00<00:00, 51.66it/s]\n"
     ]
    },
    {
     "name": "stdout",
     "output_type": "stream",
     "text": [
      "Accumulative Days 3.\n",
      "Accuracy: 53.84615384615385%\n",
      "FP: 46.15384615384615%\n",
      "FN: 0.0%\n"
     ]
    },
    {
     "name": "stderr",
     "output_type": "stream",
     "text": [
      "100%|██████████████████████████████████████████████████████████████████████████████████| 39/39 [00:00<00:00, 47.80it/s]\n"
     ]
    },
    {
     "name": "stdout",
     "output_type": "stream",
     "text": [
      "Accumulative Days 4.\n",
      "Accuracy: 53.84615384615385%\n",
      "FP: 43.58974358974359%\n",
      "FN: 2.5641025641025643%\n"
     ]
    },
    {
     "name": "stderr",
     "output_type": "stream",
     "text": [
      "100%|██████████████████████████████████████████████████████████████████████████████████| 39/39 [00:00<00:00, 50.80it/s]\n"
     ]
    },
    {
     "name": "stdout",
     "output_type": "stream",
     "text": [
      "Accumulative Days 5.\n",
      "Accuracy: 53.84615384615385%\n",
      "FP: 43.58974358974359%\n",
      "FN: 2.5641025641025643%\n"
     ]
    },
    {
     "name": "stderr",
     "output_type": "stream",
     "text": [
      "100%|██████████████████████████████████████████████████████████████████████████████████| 39/39 [00:00<00:00, 50.76it/s]\n"
     ]
    },
    {
     "name": "stdout",
     "output_type": "stream",
     "text": [
      "Accumulative Days 6.\n",
      "Accuracy: 53.84615384615385%\n",
      "FP: 43.58974358974359%\n",
      "FN: 2.5641025641025643%\n"
     ]
    },
    {
     "name": "stderr",
     "output_type": "stream",
     "text": [
      "100%|██████████████████████████████████████████████████████████████████████████████████| 39/39 [00:00<00:00, 50.90it/s]\n"
     ]
    },
    {
     "name": "stdout",
     "output_type": "stream",
     "text": [
      "Accumulative Days 7.\n",
      "Accuracy: 53.84615384615385%\n",
      "FP: 43.58974358974359%\n",
      "FN: 2.5641025641025643%\n"
     ]
    },
    {
     "name": "stderr",
     "output_type": "stream",
     "text": [
      "100%|██████████████████████████████████████████████████████████████████████████████████| 39/39 [00:00<00:00, 49.47it/s]\n"
     ]
    },
    {
     "name": "stdout",
     "output_type": "stream",
     "text": [
      "Accumulative Days 8.\n",
      "Accuracy: 53.84615384615385%\n",
      "FP: 43.58974358974359%\n",
      "FN: 2.5641025641025643%\n"
     ]
    },
    {
     "name": "stderr",
     "output_type": "stream",
     "text": [
      "100%|██████████████████████████████████████████████████████████████████████████████████| 39/39 [00:00<00:00, 50.77it/s]\n"
     ]
    },
    {
     "name": "stdout",
     "output_type": "stream",
     "text": [
      "Accumulative Days 9.\n",
      "Accuracy: 53.84615384615385%\n",
      "FP: 43.58974358974359%\n",
      "FN: 2.5641025641025643%\n"
     ]
    },
    {
     "name": "stderr",
     "output_type": "stream",
     "text": [
      "100%|██████████████████████████████████████████████████████████████████████████████████| 39/39 [00:00<00:00, 50.25it/s]\n"
     ]
    },
    {
     "name": "stdout",
     "output_type": "stream",
     "text": [
      "Accumulative Days 10.\n",
      "Accuracy: 56.41025641025641%\n",
      "FP: 41.02564102564103%\n",
      "FN: 2.5641025641025643%\n"
     ]
    },
    {
     "name": "stderr",
     "output_type": "stream",
     "text": [
      "100%|██████████████████████████████████████████████████████████████████████████████████| 39/39 [00:00<00:00, 48.25it/s]\n"
     ]
    },
    {
     "name": "stdout",
     "output_type": "stream",
     "text": [
      "Accumulative Days 11.\n",
      "Accuracy: 53.84615384615385%\n",
      "FP: 41.02564102564103%\n",
      "FN: 5.128205128205129%\n"
     ]
    },
    {
     "name": "stderr",
     "output_type": "stream",
     "text": [
      "100%|██████████████████████████████████████████████████████████████████████████████████| 39/39 [00:00<00:00, 47.87it/s]\n"
     ]
    },
    {
     "name": "stdout",
     "output_type": "stream",
     "text": [
      "Accumulative Days 12.\n",
      "Accuracy: 53.84615384615385%\n",
      "FP: 41.02564102564103%\n",
      "FN: 5.128205128205129%\n"
     ]
    },
    {
     "name": "stderr",
     "output_type": "stream",
     "text": [
      "100%|██████████████████████████████████████████████████████████████████████████████████| 39/39 [00:00<00:00, 48.62it/s]\n"
     ]
    },
    {
     "name": "stdout",
     "output_type": "stream",
     "text": [
      "Accumulative Days 13.\n",
      "Accuracy: 53.84615384615385%\n",
      "FP: 41.02564102564103%\n",
      "FN: 5.128205128205129%\n"
     ]
    },
    {
     "name": "stderr",
     "output_type": "stream",
     "text": [
      "100%|██████████████████████████████████████████████████████████████████████████████████| 39/39 [00:00<00:00, 48.16it/s]\n"
     ]
    },
    {
     "name": "stdout",
     "output_type": "stream",
     "text": [
      "Accumulative Days 14.\n",
      "Accuracy: 53.84615384615385%\n",
      "FP: 41.02564102564103%\n",
      "FN: 5.128205128205129%\n"
     ]
    },
    {
     "name": "stderr",
     "output_type": "stream",
     "text": [
      "100%|██████████████████████████████████████████████████████████████████████████████████| 39/39 [00:00<00:00, 49.78it/s]\n"
     ]
    },
    {
     "name": "stdout",
     "output_type": "stream",
     "text": [
      "Accumulative Days 15.\n",
      "Accuracy: 53.84615384615385%\n",
      "FP: 41.02564102564103%\n",
      "FN: 5.128205128205129%\n"
     ]
    },
    {
     "name": "stderr",
     "output_type": "stream",
     "text": [
      "100%|██████████████████████████████████████████████████████████████████████████████████| 39/39 [00:00<00:00, 49.48it/s]\n"
     ]
    },
    {
     "name": "stdout",
     "output_type": "stream",
     "text": [
      "Accumulative Days 16.\n",
      "Accuracy: 53.84615384615385%\n",
      "FP: 41.02564102564103%\n",
      "FN: 5.128205128205129%\n"
     ]
    },
    {
     "name": "stderr",
     "output_type": "stream",
     "text": [
      "100%|██████████████████████████████████████████████████████████████████████████████████| 39/39 [00:00<00:00, 50.23it/s]\n"
     ]
    },
    {
     "name": "stdout",
     "output_type": "stream",
     "text": [
      "Accumulative Days 17.\n",
      "Accuracy: 53.84615384615385%\n",
      "FP: 41.02564102564103%\n",
      "FN: 5.128205128205129%\n"
     ]
    },
    {
     "name": "stderr",
     "output_type": "stream",
     "text": [
      "100%|██████████████████████████████████████████████████████████████████████████████████| 39/39 [00:00<00:00, 50.55it/s]\n"
     ]
    },
    {
     "name": "stdout",
     "output_type": "stream",
     "text": [
      "Accumulative Days 18.\n",
      "Accuracy: 53.84615384615385%\n",
      "FP: 41.02564102564103%\n",
      "FN: 5.128205128205129%\n"
     ]
    },
    {
     "name": "stderr",
     "output_type": "stream",
     "text": [
      "100%|██████████████████████████████████████████████████████████████████████████████████| 39/39 [00:00<00:00, 50.31it/s]\n"
     ]
    },
    {
     "name": "stdout",
     "output_type": "stream",
     "text": [
      "Accumulative Days 19.\n",
      "Accuracy: 51.282051282051285%\n",
      "FP: 41.02564102564103%\n",
      "FN: 7.6923076923076925%\n"
     ]
    },
    {
     "name": "stderr",
     "output_type": "stream",
     "text": [
      "100%|██████████████████████████████████████████████████████████████████████████████████| 39/39 [00:00<00:00, 49.66it/s]\n"
     ]
    },
    {
     "name": "stdout",
     "output_type": "stream",
     "text": [
      "Accumulative Days 20.\n",
      "Accuracy: 46.15384615384615%\n",
      "FP: 41.02564102564103%\n",
      "FN: 12.820512820512821%\n"
     ]
    },
    {
     "name": "stderr",
     "output_type": "stream",
     "text": [
      "100%|██████████████████████████████████████████████████████████████████████████████████| 39/39 [00:00<00:00, 47.90it/s]\n"
     ]
    },
    {
     "name": "stdout",
     "output_type": "stream",
     "text": [
      "Accumulative Days 21.\n",
      "Accuracy: 43.58974358974359%\n",
      "FP: 41.02564102564103%\n",
      "FN: 15.384615384615385%\n"
     ]
    },
    {
     "name": "stderr",
     "output_type": "stream",
     "text": [
      "100%|██████████████████████████████████████████████████████████████████████████████████| 39/39 [00:00<00:00, 49.75it/s]\n"
     ]
    },
    {
     "name": "stdout",
     "output_type": "stream",
     "text": [
      "Accumulative Days 22.\n",
      "Accuracy: 46.15384615384615%\n",
      "FP: 38.46153846153846%\n",
      "FN: 15.384615384615385%\n"
     ]
    },
    {
     "name": "stderr",
     "output_type": "stream",
     "text": [
      "100%|██████████████████████████████████████████████████████████████████████████████████| 39/39 [00:00<00:00, 50.57it/s]"
     ]
    },
    {
     "name": "stdout",
     "output_type": "stream",
     "text": [
      "Accumulative Days 23.\n",
      "Accuracy: 46.15384615384615%\n",
      "FP: 38.46153846153846%\n",
      "FN: 15.384615384615385%\n"
     ]
    },
    {
     "name": "stderr",
     "output_type": "stream",
     "text": [
      "\n"
     ]
    }
   ],
   "source": [
    "scale = 4000 ## meters\n",
    "label = df_filtered.Abundance_Binary.values ## labels\n",
    "for days in range(24):\n",
    "    \n",
    "    pred = []\n",
    "    \n",
    "    for i in tqdm(range(len(df_filtered))):\n",
    "            \n",
    "        ## filter date\n",
    "        start_date = df_filtered.Observation_Date.values[i].split()[0]\n",
    "        start_month, start_day, start_year = start_date.split('/')\n",
    "        start_month = int(start_month)\n",
    "        start_day = int(start_day)\n",
    "        start_year = int(start_year)\n",
    "        start = datetime(start_year, start_month, start_day)\n",
    "        \n",
    "        end_date = (datetime.strptime(start_date, \"%m/%d/%Y\") + timedelta(days=days)).strftime(\"%m/%d/%Y\")\n",
    "        end_month, end_day, end_year = end_date.split('/')\n",
    "        end_month = int(end_month)\n",
    "        end_day = int(end_day)\n",
    "        end_year = int(end_year)\n",
    "        end = datetime(end_year, end_month, end_day)\n",
    "        \n",
    "        ## point location\n",
    "        lat = df_filtered.Latitude.values[i]\n",
    "        long = df_filtered.Longitude.values[i]\n",
    "        #elevation = df_filtered.Elevation_in_Meters.values[i]\n",
    "        #point = Point(lat, long, elevation)\n",
    "        point = Point(lat, long)\n",
    "        data = Daily(point, start, end)\n",
    "        data = data.fetch()\n",
    "        \n",
    "        ## get precipitation time series data\n",
    "        try:\n",
    "            ts_prec = data['prcp'].values*0.0393701 ## 1mm = 0.0393701 inches        \n",
    "            pred.append(1*(sum(ts_prec)>1.7))\n",
    "        except:\n",
    "            pred.append(0)\n",
    "    \n",
    "    tn, fp, fn, tp = confusion_matrix(pred, label).ravel()            \n",
    "    acc = 100*(tn+tp)/len(label)\n",
    "    fp_rate = 100*(fp)/len(label)\n",
    "    fn_rate = 100*(fn)/len(label)\n",
    "    \n",
    "    print(f'Accumulative Days {days}.')\n",
    "    print(f'Accuracy: {acc}%')\n",
    "    print(f'FP: {fp_rate}%')\n",
    "    print(f'FN: {fn_rate}%')"
   ]
  }
 ],
 "metadata": {
  "kernelspec": {
   "display_name": "Python 3 (ipykernel)",
   "language": "python",
   "name": "python3"
  },
  "language_info": {
   "codemirror_mode": {
    "name": "ipython",
    "version": 3
   },
   "file_extension": ".py",
   "mimetype": "text/x-python",
   "name": "python",
   "nbconvert_exporter": "python",
   "pygments_lexer": "ipython3",
   "version": "3.9.13"
  }
 },
 "nbformat": 4,
 "nbformat_minor": 5
}
