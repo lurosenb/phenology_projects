{
 "cells": [
  {
   "cell_type": "code",
   "execution_count": 1,
   "id": "2ab01575",
   "metadata": {},
   "outputs": [],
   "source": [
    "import numpy as np\n",
    "import pandas as pd\n",
    "import matplotlib.pyplot as plt\n",
    "from datetime import datetime, timedelta\n",
    "from meteostat import Point, Daily\n",
    "from tqdm import tqdm\n",
    "from sklearn.metrics import confusion_matrix"
   ]
  },
  {
   "cell_type": "code",
   "execution_count": 2,
   "id": "468dcad6",
   "metadata": {},
   "outputs": [
    {
     "data": {
      "text/html": [
       "<div>\n",
       "<style scoped>\n",
       "    .dataframe tbody tr th:only-of-type {\n",
       "        vertical-align: middle;\n",
       "    }\n",
       "\n",
       "    .dataframe tbody tr th {\n",
       "        vertical-align: top;\n",
       "    }\n",
       "\n",
       "    .dataframe thead th {\n",
       "        text-align: right;\n",
       "    }\n",
       "</style>\n",
       "<table border=\"1\" class=\"dataframe\">\n",
       "  <thead>\n",
       "    <tr style=\"text-align: right;\">\n",
       "      <th></th>\n",
       "      <th>Observation_ID</th>\n",
       "      <th>Latitude</th>\n",
       "      <th>Longitude</th>\n",
       "      <th>Elevation_in_Meters</th>\n",
       "      <th>Phenophase_ID</th>\n",
       "      <th>Observation_Date</th>\n",
       "      <th>Abundance_Binary</th>\n",
       "    </tr>\n",
       "  </thead>\n",
       "  <tbody>\n",
       "    <tr>\n",
       "      <th>1754</th>\n",
       "      <td>1795824</td>\n",
       "      <td>32.250660</td>\n",
       "      <td>-110.946358</td>\n",
       "      <td>734</td>\n",
       "      <td>489</td>\n",
       "      <td>2013-01-28</td>\n",
       "      <td>1</td>\n",
       "    </tr>\n",
       "    <tr>\n",
       "      <th>1756</th>\n",
       "      <td>6838318</td>\n",
       "      <td>32.250660</td>\n",
       "      <td>-110.946358</td>\n",
       "      <td>734</td>\n",
       "      <td>489</td>\n",
       "      <td>2015-12-08</td>\n",
       "      <td>1</td>\n",
       "    </tr>\n",
       "    <tr>\n",
       "      <th>8332</th>\n",
       "      <td>2588139</td>\n",
       "      <td>32.212666</td>\n",
       "      <td>-111.001831</td>\n",
       "      <td>794</td>\n",
       "      <td>489</td>\n",
       "      <td>2013-07-23</td>\n",
       "      <td>1</td>\n",
       "    </tr>\n",
       "    <tr>\n",
       "      <th>8333</th>\n",
       "      <td>2588163</td>\n",
       "      <td>32.212666</td>\n",
       "      <td>-111.001831</td>\n",
       "      <td>794</td>\n",
       "      <td>489</td>\n",
       "      <td>2013-07-31</td>\n",
       "      <td>1</td>\n",
       "    </tr>\n",
       "    <tr>\n",
       "      <th>8334</th>\n",
       "      <td>2588187</td>\n",
       "      <td>32.212666</td>\n",
       "      <td>-111.001831</td>\n",
       "      <td>794</td>\n",
       "      <td>489</td>\n",
       "      <td>2013-08-06</td>\n",
       "      <td>1</td>\n",
       "    </tr>\n",
       "  </tbody>\n",
       "</table>\n",
       "</div>"
      ],
      "text/plain": [
       "      Observation_ID   Latitude   Longitude  Elevation_in_Meters  \\\n",
       "1754         1795824  32.250660 -110.946358                  734   \n",
       "1756         6838318  32.250660 -110.946358                  734   \n",
       "8332         2588139  32.212666 -111.001831                  794   \n",
       "8333         2588163  32.212666 -111.001831                  794   \n",
       "8334         2588187  32.212666 -111.001831                  794   \n",
       "\n",
       "      Phenophase_ID Observation_Date  Abundance_Binary  \n",
       "1754            489       2013-01-28                 1  \n",
       "1756            489       2015-12-08                 1  \n",
       "8332            489       2013-07-23                 1  \n",
       "8333            489       2013-07-31                 1  \n",
       "8334            489       2013-08-06                 1  "
      ]
     },
     "execution_count": 2,
     "metadata": {},
     "output_type": "execute_result"
    }
   ],
   "source": [
    "df = pd.read_csv('../pheno-data.csv')\n",
    "df = df[(df['Phenophase_Description'] == 'Leaves (grasses)') & (df['Intensity_Value'] != '-9999')]\n",
    "df['Abundance_Binary'] = df['Intensity_Value'].apply(lambda x: 1 if x == '75-94%' or x == '50-74%' or x == '95% or more' else 0)\n",
    "df_filtered = df[['Observation_ID','Latitude', 'Longitude', 'Elevation_in_Meters', 'Phenophase_ID', 'Observation_Date', 'Abundance_Binary']]\n",
    "df_filtered.head()"
   ]
  },
  {
   "cell_type": "code",
   "execution_count": 3,
   "id": "02acb0a4",
   "metadata": {
    "scrolled": true
   },
   "outputs": [
    {
     "name": "stderr",
     "output_type": "stream",
     "text": [
      "100%|██████████████████████████████████████████████████████████████████████████████| 1698/1698 [00:42<00:00, 39.61it/s]\n"
     ]
    },
    {
     "name": "stdout",
     "output_type": "stream",
     "text": [
      "Accumulative Days 0.\n",
      "Accuracy: 64.25206124852768%\n",
      "FP: 35.74793875147232%\n",
      "FN: 0.0%\n"
     ]
    },
    {
     "name": "stderr",
     "output_type": "stream",
     "text": [
      "100%|██████████████████████████████████████████████████████████████████████████████| 1698/1698 [00:44<00:00, 37.98it/s]\n"
     ]
    },
    {
     "name": "stdout",
     "output_type": "stream",
     "text": [
      "Accumulative Days 1.\n",
      "Accuracy: 64.54652532391049%\n",
      "FP: 35.39458186101296%\n",
      "FN: 0.05889281507656066%\n"
     ]
    },
    {
     "name": "stderr",
     "output_type": "stream",
     "text": [
      "100%|██████████████████████████████████████████████████████████████████████████████| 1698/1698 [00:47<00:00, 35.78it/s]\n"
     ]
    },
    {
     "name": "stdout",
     "output_type": "stream",
     "text": [
      "Accumulative Days 2.\n",
      "Accuracy: 64.3698468786808%\n",
      "FP: 35.39458186101296%\n",
      "FN: 0.23557126030624265%\n"
     ]
    },
    {
     "name": "stderr",
     "output_type": "stream",
     "text": [
      "100%|██████████████████████████████████████████████████████████████████████████████| 1698/1698 [00:46<00:00, 36.60it/s]\n"
     ]
    },
    {
     "name": "stdout",
     "output_type": "stream",
     "text": [
      "Accumulative Days 3.\n",
      "Accuracy: 64.3698468786808%\n",
      "FP: 35.39458186101296%\n",
      "FN: 0.23557126030624265%\n"
     ]
    },
    {
     "name": "stderr",
     "output_type": "stream",
     "text": [
      "100%|██████████████████████████████████████████████████████████████████████████████| 1698/1698 [00:48<00:00, 35.07it/s]\n"
     ]
    },
    {
     "name": "stdout",
     "output_type": "stream",
     "text": [
      "Accumulative Days 4.\n",
      "Accuracy: 64.01648998822144%\n",
      "FP: 35.04122497055359%\n",
      "FN: 0.9422850412249706%\n"
     ]
    },
    {
     "name": "stderr",
     "output_type": "stream",
     "text": [
      "100%|██████████████████████████████████████████████████████████████████████████████| 1698/1698 [00:51<00:00, 33.27it/s]\n"
     ]
    },
    {
     "name": "stdout",
     "output_type": "stream",
     "text": [
      "Accumulative Days 5.\n",
      "Accuracy: 63.78091872791519%\n",
      "FP: 34.687868080094226%\n",
      "FN: 1.5312131919905771%\n"
     ]
    },
    {
     "name": "stderr",
     "output_type": "stream",
     "text": [
      "100%|██████████████████████████████████████████████████████████████████████████████| 1698/1698 [00:51<00:00, 33.20it/s]\n"
     ]
    },
    {
     "name": "stdout",
     "output_type": "stream",
     "text": [
      "Accumulative Days 6.\n",
      "Accuracy: 63.60424028268551%\n",
      "FP: 34.51118963486454%\n",
      "FN: 1.8845700824499412%\n"
     ]
    },
    {
     "name": "stderr",
     "output_type": "stream",
     "text": [
      "100%|██████████████████████████████████████████████████████████████████████████████| 1698/1698 [00:51<00:00, 33.08it/s]\n"
     ]
    },
    {
     "name": "stdout",
     "output_type": "stream",
     "text": [
      "Accumulative Days 7.\n",
      "Accuracy: 64.01648998822144%\n",
      "FP: 33.80447585394582%\n",
      "FN: 2.1790341578327443%\n"
     ]
    },
    {
     "name": "stderr",
     "output_type": "stream",
     "text": [
      "100%|██████████████████████████████████████████████████████████████████████████████| 1698/1698 [00:51<00:00, 33.20it/s]\n"
     ]
    },
    {
     "name": "stdout",
     "output_type": "stream",
     "text": [
      "Accumulative Days 8.\n",
      "Accuracy: 64.01648998822144%\n",
      "FP: 33.80447585394582%\n",
      "FN: 2.1790341578327443%\n"
     ]
    },
    {
     "name": "stderr",
     "output_type": "stream",
     "text": [
      "100%|██████████████████████████████████████████████████████████████████████████████| 1698/1698 [00:51<00:00, 32.98it/s]\n"
     ]
    },
    {
     "name": "stdout",
     "output_type": "stream",
     "text": [
      "Accumulative Days 9.\n",
      "Accuracy: 64.01648998822144%\n",
      "FP: 33.80447585394582%\n",
      "FN: 2.1790341578327443%\n"
     ]
    },
    {
     "name": "stderr",
     "output_type": "stream",
     "text": [
      "100%|██████████████████████████████████████████████████████████████████████████████| 1698/1698 [00:51<00:00, 32.91it/s]\n"
     ]
    },
    {
     "name": "stdout",
     "output_type": "stream",
     "text": [
      "Accumulative Days 10.\n",
      "Accuracy: 64.60541813898705%\n",
      "FP: 33.15665488810365%\n",
      "FN: 2.237926972909305%\n"
     ]
    },
    {
     "name": "stderr",
     "output_type": "stream",
     "text": [
      "100%|██████████████████████████████████████████████████████████████████████████████| 1698/1698 [00:50<00:00, 33.36it/s]\n"
     ]
    },
    {
     "name": "stdout",
     "output_type": "stream",
     "text": [
      "Accumulative Days 11.\n",
      "Accuracy: 64.075382803298%\n",
      "FP: 33.03886925795053%\n",
      "FN: 2.8857479387514724%\n"
     ]
    },
    {
     "name": "stderr",
     "output_type": "stream",
     "text": [
      "100%|██████████████████████████████████████████████████████████████████████████████| 1698/1698 [00:47<00:00, 35.69it/s]\n"
     ]
    },
    {
     "name": "stdout",
     "output_type": "stream",
     "text": [
      "Accumulative Days 12.\n",
      "Accuracy: 64.075382803298%\n",
      "FP: 32.685512367491164%\n",
      "FN: 3.239104829210836%\n"
     ]
    },
    {
     "name": "stderr",
     "output_type": "stream",
     "text": [
      "100%|██████████████████████████████████████████████████████████████████████████████| 1698/1698 [00:48<00:00, 34.93it/s]\n"
     ]
    },
    {
     "name": "stdout",
     "output_type": "stream",
     "text": [
      "Accumulative Days 13.\n",
      "Accuracy: 63.78091872791519%\n",
      "FP: 32.09658421672556%\n",
      "FN: 4.122497055359246%\n"
     ]
    },
    {
     "name": "stderr",
     "output_type": "stream",
     "text": [
      "100%|██████████████████████████████████████████████████████████████████████████████| 1698/1698 [00:48<00:00, 35.10it/s]\n"
     ]
    },
    {
     "name": "stdout",
     "output_type": "stream",
     "text": [
      "Accumulative Days 14.\n",
      "Accuracy: 63.30977620730271%\n",
      "FP: 31.978798586572438%\n",
      "FN: 4.7114252061248525%\n"
     ]
    },
    {
     "name": "stderr",
     "output_type": "stream",
     "text": [
      "100%|██████████████████████████████████████████████████████████████████████████████| 1698/1698 [00:47<00:00, 36.10it/s]\n"
     ]
    },
    {
     "name": "stdout",
     "output_type": "stream",
     "text": [
      "Accumulative Days 15.\n",
      "Accuracy: 63.839811542991754%\n",
      "FP: 31.15429917550059%\n",
      "FN: 5.005889281507656%\n"
     ]
    },
    {
     "name": "stderr",
     "output_type": "stream",
     "text": [
      "100%|██████████████████████████████████████████████████████████████████████████████| 1698/1698 [00:47<00:00, 35.47it/s]\n"
     ]
    },
    {
     "name": "stdout",
     "output_type": "stream",
     "text": [
      "Accumulative Days 16.\n",
      "Accuracy: 63.898704358068315%\n",
      "FP: 31.036513545347468%\n",
      "FN: 5.064782096584216%\n"
     ]
    },
    {
     "name": "stderr",
     "output_type": "stream",
     "text": [
      "100%|██████████████████████████████████████████████████████████████████████████████| 1698/1698 [00:47<00:00, 35.56it/s]\n"
     ]
    },
    {
     "name": "stdout",
     "output_type": "stream",
     "text": [
      "Accumulative Days 17.\n",
      "Accuracy: 62.66195524146054%\n",
      "FP: 30.859835100117785%\n",
      "FN: 6.478209658421672%\n"
     ]
    },
    {
     "name": "stderr",
     "output_type": "stream",
     "text": [
      "100%|██████████████████████████████████████████████████████████████████████████████| 1698/1698 [00:47<00:00, 35.50it/s]\n"
     ]
    },
    {
     "name": "stdout",
     "output_type": "stream",
     "text": [
      "Accumulative Days 18.\n",
      "Accuracy: 62.4263839811543%\n",
      "FP: 30.800942285041224%\n",
      "FN: 6.772673733804476%\n"
     ]
    },
    {
     "name": "stderr",
     "output_type": "stream",
     "text": [
      "100%|██████████████████████████████████████████████████████████████████████████████| 1698/1698 [00:47<00:00, 35.79it/s]\n"
     ]
    },
    {
     "name": "stdout",
     "output_type": "stream",
     "text": [
      "Accumulative Days 19.\n",
      "Accuracy: 62.014134275618375%\n",
      "FP: 30.742049469964666%\n",
      "FN: 7.243816254416961%\n"
     ]
    },
    {
     "name": "stderr",
     "output_type": "stream",
     "text": [
      "100%|██████████████████████████████████████████████████████████████████████████████| 1698/1698 [00:47<00:00, 35.78it/s]\n"
     ]
    },
    {
     "name": "stdout",
     "output_type": "stream",
     "text": [
      "Accumulative Days 20.\n",
      "Accuracy: 61.71967020023557%\n",
      "FP: 30.3886925795053%\n",
      "FN: 7.8916372202591285%\n"
     ]
    },
    {
     "name": "stderr",
     "output_type": "stream",
     "text": [
      "100%|██████████████████████████████████████████████████████████████████████████████| 1698/1698 [00:47<00:00, 35.50it/s]\n"
     ]
    },
    {
     "name": "stdout",
     "output_type": "stream",
     "text": [
      "Accumulative Days 21.\n",
      "Accuracy: 62.073027090694936%\n",
      "FP: 29.38751472320377%\n",
      "FN: 8.539458186101296%\n"
     ]
    },
    {
     "name": "stderr",
     "output_type": "stream",
     "text": [
      "100%|██████████████████████████████████████████████████████████████████████████████| 1698/1698 [00:47<00:00, 35.60it/s]\n"
     ]
    },
    {
     "name": "stdout",
     "output_type": "stream",
     "text": [
      "Accumulative Days 22.\n",
      "Accuracy: 61.48409893992933%\n",
      "FP: 28.50412249705536%\n",
      "FN: 10.011778563015312%\n"
     ]
    },
    {
     "name": "stderr",
     "output_type": "stream",
     "text": [
      "100%|██████████████████████████████████████████████████████████████████████████████| 1698/1698 [00:48<00:00, 35.21it/s]"
     ]
    },
    {
     "name": "stdout",
     "output_type": "stream",
     "text": [
      "Accumulative Days 23.\n",
      "Accuracy: 60.83627797408716%\n",
      "FP: 28.386336866902237%\n",
      "FN: 10.777385159010601%\n"
     ]
    },
    {
     "name": "stderr",
     "output_type": "stream",
     "text": [
      "\n"
     ]
    }
   ],
   "source": [
    "scale = 4000 ## meters\n",
    "label = df_filtered.Abundance_Binary.values ## labels\n",
    "for days in range(24):\n",
    "    \n",
    "    pred = []\n",
    "    \n",
    "    for i in tqdm(range(len(df_filtered))):\n",
    "            \n",
    "        ## filter date\n",
    "        start_date = df_filtered.Observation_Date.values[i]\n",
    "        start_year = int(start_date[:4])\n",
    "        start_month = int(start_date[5:7])\n",
    "        start_day = int(start_date[8:10])\n",
    "        start = datetime(start_year, start_month, start_day)\n",
    "        \n",
    "        end_date = (datetime.strptime(start_date, \"%Y-%m-%d\") + timedelta(days=days)).strftime(\"%Y-%m-%d\")\n",
    "        end_year = int(end_date[:4])\n",
    "        end_month = int(end_date[5:7])\n",
    "        end_day = int(end_date[8:10])\n",
    "        end = datetime(end_year, end_month, end_day)\n",
    "        \n",
    "        ## point location\n",
    "        lat = df_filtered.Latitude.values[i]\n",
    "        long = df_filtered.Longitude.values[i]\n",
    "        elevation = df_filtered.Elevation_in_Meters.values[i]\n",
    "        point = Point(lat, long, elevation)\n",
    "        data = Daily(point, start, end)\n",
    "        data = data.fetch()\n",
    "        \n",
    "        ## get precipitation time series data\n",
    "        try:\n",
    "            ts_prec = data['prcp'].values*0.0393701 ## 1mm = 0.0393701 inches        \n",
    "            pred.append(1*(sum(ts_prec)>1.7))\n",
    "        except:\n",
    "            pred.append(0)\n",
    "    \n",
    "    tn, fp, fn, tp = confusion_matrix(pred, label).ravel()            \n",
    "    acc = 100*(tn+tp)/len(label)\n",
    "    fp_rate = 100*(fp)/len(label)\n",
    "    fn_rate = 100*(fn)/len(label)\n",
    "    \n",
    "    print(f'Accumulative Days {days}.')\n",
    "    print(f'Accuracy: {acc}%')\n",
    "    print(f'FP: {fp_rate}%')\n",
    "    print(f'FN: {fn_rate}%')"
   ]
  }
 ],
 "metadata": {
  "kernelspec": {
   "display_name": "Python 3 (ipykernel)",
   "language": "python",
   "name": "python3"
  },
  "language_info": {
   "codemirror_mode": {
    "name": "ipython",
    "version": 3
   },
   "file_extension": ".py",
   "mimetype": "text/x-python",
   "name": "python",
   "nbconvert_exporter": "python",
   "pygments_lexer": "ipython3",
   "version": "3.9.13"
  }
 },
 "nbformat": 4,
 "nbformat_minor": 5
}
